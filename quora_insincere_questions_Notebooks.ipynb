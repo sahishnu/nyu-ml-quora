{
  "nbformat": 4,
  "nbformat_minor": 0,
  "metadata": {
    "colab": {
      "name": "quora_insincere_questions_Notebooks.ipynb",
      "provenance": [],
      "collapsed_sections": [],
      "include_colab_link": true
    },
    "kernelspec": {
      "display_name": "Python 3",
      "name": "python3"
    },
    "language_info": {
      "name": "python"
    },
    "accelerator": "GPU"
  },
  "cells": [
    {
      "cell_type": "markdown",
      "metadata": {
        "id": "view-in-github",
        "colab_type": "text"
      },
      "source": [
        "<a href=\"https://colab.research.google.com/github/sahishnu/nyu-ml-quora/blob/main/quora_insincere_questions_Notebooks.ipynb\" target=\"_parent\"><img src=\"https://colab.research.google.com/assets/colab-badge.svg\" alt=\"Open In Colab\"/></a>"
      ]
    },
    {
      "cell_type": "markdown",
      "metadata": {
        "id": "gkbRLgjYfCEv"
      },
      "source": [
        "# Imports & Data"
      ]
    },
    {
      "cell_type": "code",
      "metadata": {
        "colab": {
          "base_uri": "https://localhost:8080/"
        },
        "id": "LUCHvAkjQ1Lz",
        "outputId": "235eee2f-ac21-43b3-a909-ca8c5418120b"
      },
      "source": [
        "!pip install kaggle # we are using kaggles api to download the dataset"
      ],
      "execution_count": null,
      "outputs": [
        {
          "output_type": "stream",
          "text": [
            "Requirement already satisfied: kaggle in /usr/local/lib/python3.7/dist-packages (1.5.12)\n",
            "Requirement already satisfied: certifi in /usr/local/lib/python3.7/dist-packages (from kaggle) (2020.12.5)\n",
            "Requirement already satisfied: requests in /usr/local/lib/python3.7/dist-packages (from kaggle) (2.23.0)\n",
            "Requirement already satisfied: urllib3 in /usr/local/lib/python3.7/dist-packages (from kaggle) (1.24.3)\n",
            "Requirement already satisfied: python-slugify in /usr/local/lib/python3.7/dist-packages (from kaggle) (4.0.1)\n",
            "Requirement already satisfied: six>=1.10 in /usr/local/lib/python3.7/dist-packages (from kaggle) (1.15.0)\n",
            "Requirement already satisfied: tqdm in /usr/local/lib/python3.7/dist-packages (from kaggle) (4.41.1)\n",
            "Requirement already satisfied: python-dateutil in /usr/local/lib/python3.7/dist-packages (from kaggle) (2.8.1)\n",
            "Requirement already satisfied: chardet<4,>=3.0.2 in /usr/local/lib/python3.7/dist-packages (from requests->kaggle) (3.0.4)\n",
            "Requirement already satisfied: idna<3,>=2.5 in /usr/local/lib/python3.7/dist-packages (from requests->kaggle) (2.10)\n",
            "Requirement already satisfied: text-unidecode>=1.3 in /usr/local/lib/python3.7/dist-packages (from python-slugify->kaggle) (1.3)\n"
          ],
          "name": "stdout"
        }
      ]
    },
    {
      "cell_type": "code",
      "metadata": {
        "id": "0TeTEMYCREGH"
      },
      "source": [
        "!mkdir -p ~/.kaggle\n",
        "!cp kaggle.json ~/.kaggle/\n",
        "\n",
        "!chmod 600 ~/.kaggle/kaggle.json"
      ],
      "execution_count": null,
      "outputs": []
    },
    {
      "cell_type": "code",
      "metadata": {
        "colab": {
          "base_uri": "https://localhost:8080/"
        },
        "id": "r8hpt4V0Rai_",
        "outputId": "6107f12a-28fa-422f-9d81-63c1050dcf85"
      },
      "source": [
        "!kaggle competitions download -c quora-insincere-questions-classification"
      ],
      "execution_count": null,
      "outputs": [
        {
          "output_type": "stream",
          "text": [
            "Warning: Looks like you're using an outdated API Version, please consider updating (server 1.5.12 / client 1.5.4)\n",
            "Downloading embeddings.zip to /content\n",
            "100% 5.95G/5.96G [02:16<00:00, 30.2MB/s]\n",
            "100% 5.96G/5.96G [02:16<00:00, 47.0MB/s]\n",
            "Downloading sample_submission.csv.zip to /content\n",
            "100% 4.09M/4.09M [00:00<00:00, 10.1MB/s]\n",
            "\n",
            "Downloading train.csv.zip to /content\n",
            " 62% 34.0M/54.9M [00:01<00:02, 10.8MB/s]\n",
            "100% 54.9M/54.9M [00:02<00:00, 27.8MB/s]\n",
            "Downloading test.csv.zip to /content\n",
            " 32% 5.00M/15.8M [00:01<00:02, 3.86MB/s]\n",
            "100% 15.8M/15.8M [00:01<00:00, 11.7MB/s]\n"
          ],
          "name": "stdout"
        }
      ]
    },
    {
      "cell_type": "code",
      "metadata": {
        "colab": {
          "base_uri": "https://localhost:8080/"
        },
        "id": "C-kgcSwdRbku",
        "outputId": "7a6c84aa-580d-4a3d-df90-271a02ef15d0"
      },
      "source": [
        "!unzip embeddings.zip"
      ],
      "execution_count": null,
      "outputs": [
        {
          "output_type": "stream",
          "text": [
            "Archive:  embeddings.zip\n",
            "   creating: GoogleNews-vectors-negative300/\n",
            "   creating: glove.840B.300d/\n",
            "   creating: paragram_300_sl999/\n",
            "   creating: wiki-news-300d-1M/\n",
            "  inflating: glove.840B.300d/glove.840B.300d.txt  \n",
            "  inflating: GoogleNews-vectors-negative300/GoogleNews-vectors-negative300.bin  \n",
            "  inflating: wiki-news-300d-1M/wiki-news-300d-1M.vec  \n",
            "  inflating: paragram_300_sl999/README.txt  \n",
            "  inflating: paragram_300_sl999/paragram_300_sl999.txt  \n"
          ],
          "name": "stdout"
        }
      ]
    },
    {
      "cell_type": "code",
      "metadata": {
        "id": "yPAMTspXRdk3",
        "colab": {
          "base_uri": "https://localhost:8080/"
        },
        "outputId": "c8346301-b2cf-4aa6-c61e-3f01e1be4f73"
      },
      "source": [
        "!unzip train.csv.zip\n",
        "!unzip test.csv.zip"
      ],
      "execution_count": null,
      "outputs": [
        {
          "output_type": "stream",
          "text": [
            "Archive:  train.csv.zip\n",
            "  inflating: train.csv               \n",
            "Archive:  test.csv.zip\n",
            "  inflating: test.csv                \n"
          ],
          "name": "stdout"
        }
      ]
    },
    {
      "cell_type": "code",
      "metadata": {
        "id": "rPuPGoZWRoTg"
      },
      "source": [
        "import os\n",
        "import numpy as np\n",
        "import pandas as pd\n",
        "import time\n",
        "from tqdm import tqdm\n",
        "\n",
        "from sklearn.model_selection import train_test_split\n",
        "from sklearn import metrics\n",
        "\n",
        "from keras.preprocessing.text import Tokenizer\n",
        "from keras.preprocessing.sequence import pad_sequences\n",
        "from keras.layers import Dense, Input, LSTM, Embedding, Dropout, Activation, Conv1D\n",
        "from tensorflow.compat.v1.keras.layers import CuDNNGRU\n",
        "from keras.layers import Bidirectional, GlobalMaxPool1D\n",
        "from keras.models import Model\n",
        "from keras import initializers, regularizers, constraints, optimizers, layers\n",
        "\n",
        "import lightgbm as lgb\n",
        "\n",
        "from sklearn.metrics import f1_score\n",
        "from sklearn.model_selection import KFold\n",
        "from sklearn.feature_extraction.text import TfidfVectorizer\n",
        "from sklearn.linear_model import LogisticRegression\n",
        "from sklearn.model_selection import cross_val_score\n",
        "from sklearn.naive_bayes import GaussianNB, MultinomialNB, BernoulliNB\n",
        "\n",
        "import nltk\n",
        "from nltk.corpus import stopwords\n",
        "import string\n",
        "\n",
        "from scipy.sparse import hstack\n",
        "\n",
        "import matplotlib.pyplot as plt\n",
        "import seaborn as sns\n",
        "\n",
        "%matplotlib inline"
      ],
      "execution_count": null,
      "outputs": []
    },
    {
      "cell_type": "code",
      "metadata": {
        "colab": {
          "base_uri": "https://localhost:8080/"
        },
        "id": "Iy2KxxiF79cp",
        "outputId": "f7f6a869-4dce-4894-f67a-11cf96b407db"
      },
      "source": [
        "import nltk\n",
        "# In computing, stop words are words which are filtered out before or after processing of natural language data (text).\n",
        "# Though \"stop words\" usually refers to the most common words in a language, there is no single universal list of stop\n",
        "# words used by all natural language processing tools, and indeed not all tools even use such a list.\n",
        "# Some tools specifically avoid removing these stop words to support phrase search.\n",
        "# https://en.wikipedia.org/wiki/Stop_word\n",
        "nltk.download('stopwords')\n",
        "eng_stopwords = set(stopwords.words(\"english\"))"
      ],
      "execution_count": null,
      "outputs": [
        {
          "output_type": "stream",
          "text": [
            "[nltk_data] Downloading package stopwords to /root/nltk_data...\n",
            "[nltk_data]   Package stopwords is already up-to-date!\n"
          ],
          "name": "stdout"
        }
      ]
    },
    {
      "cell_type": "code",
      "metadata": {
        "id": "LhI1u8OcStYJ"
      },
      "source": [
        "# reference to training data\n",
        "# we will split our training data into test & training\n",
        "# this is because we dont have the real values of the test set\n",
        "train = pd.read_csv('train.csv')"
      ],
      "execution_count": null,
      "outputs": []
    },
    {
      "cell_type": "code",
      "metadata": {
        "id": "JYNbDhIHRpEX",
        "colab": {
          "base_uri": "https://localhost:8080/",
          "height": 204
        },
        "outputId": "08a3a070-a889-4f83-e710-084c9da4b55f"
      },
      "source": [
        "train.head() # logging the first 5 rows of the dataframe"
      ],
      "execution_count": null,
      "outputs": [
        {
          "output_type": "execute_result",
          "data": {
            "text/html": [
              "<div>\n",
              "<style scoped>\n",
              "    .dataframe tbody tr th:only-of-type {\n",
              "        vertical-align: middle;\n",
              "    }\n",
              "\n",
              "    .dataframe tbody tr th {\n",
              "        vertical-align: top;\n",
              "    }\n",
              "\n",
              "    .dataframe thead th {\n",
              "        text-align: right;\n",
              "    }\n",
              "</style>\n",
              "<table border=\"1\" class=\"dataframe\">\n",
              "  <thead>\n",
              "    <tr style=\"text-align: right;\">\n",
              "      <th></th>\n",
              "      <th>qid</th>\n",
              "      <th>question_text</th>\n",
              "      <th>target</th>\n",
              "    </tr>\n",
              "  </thead>\n",
              "  <tbody>\n",
              "    <tr>\n",
              "      <th>0</th>\n",
              "      <td>00002165364db923c7e6</td>\n",
              "      <td>How did Quebec nationalists see their province...</td>\n",
              "      <td>0</td>\n",
              "    </tr>\n",
              "    <tr>\n",
              "      <th>1</th>\n",
              "      <td>000032939017120e6e44</td>\n",
              "      <td>Do you have an adopted dog, how would you enco...</td>\n",
              "      <td>0</td>\n",
              "    </tr>\n",
              "    <tr>\n",
              "      <th>2</th>\n",
              "      <td>0000412ca6e4628ce2cf</td>\n",
              "      <td>Why does velocity affect time? Does velocity a...</td>\n",
              "      <td>0</td>\n",
              "    </tr>\n",
              "    <tr>\n",
              "      <th>3</th>\n",
              "      <td>000042bf85aa498cd78e</td>\n",
              "      <td>How did Otto von Guericke used the Magdeburg h...</td>\n",
              "      <td>0</td>\n",
              "    </tr>\n",
              "    <tr>\n",
              "      <th>4</th>\n",
              "      <td>0000455dfa3e01eae3af</td>\n",
              "      <td>Can I convert montra helicon D to a mountain b...</td>\n",
              "      <td>0</td>\n",
              "    </tr>\n",
              "  </tbody>\n",
              "</table>\n",
              "</div>"
            ],
            "text/plain": [
              "                    qid  ... target\n",
              "0  00002165364db923c7e6  ...      0\n",
              "1  000032939017120e6e44  ...      0\n",
              "2  0000412ca6e4628ce2cf  ...      0\n",
              "3  000042bf85aa498cd78e  ...      0\n",
              "4  0000455dfa3e01eae3af  ...      0\n",
              "\n",
              "[5 rows x 3 columns]"
            ]
          },
          "metadata": {
            "tags": []
          },
          "execution_count": 9
        }
      ]
    },
    {
      "cell_type": "code",
      "metadata": {
        "id": "krICQx-lRr33",
        "colab": {
          "base_uri": "https://localhost:8080/"
        },
        "outputId": "9563cb1c-b01b-4712-d108-43717cfedd1b"
      },
      "source": [
        "train.shape # total size of the dataframe"
      ],
      "execution_count": null,
      "outputs": [
        {
          "output_type": "execute_result",
          "data": {
            "text/plain": [
              "(1306122, 3)"
            ]
          },
          "metadata": {
            "tags": []
          },
          "execution_count": 11
        }
      ]
    },
    {
      "cell_type": "code",
      "metadata": {
        "id": "14PTaU1ZSJtc",
        "colab": {
          "base_uri": "https://localhost:8080/"
        },
        "outputId": "179e4399-3de5-4d9c-8725-3f51e8a4b439"
      },
      "source": [
        "train_target = train['target'].values\n",
        "# get a list of the unique target values from the training data  set\n",
        "np.unique(train_target)"
      ],
      "execution_count": null,
      "outputs": [
        {
          "output_type": "execute_result",
          "data": {
            "text/plain": [
              "array([0, 1])"
            ]
          },
          "metadata": {
            "tags": []
          },
          "execution_count": 12
        }
      ]
    },
    {
      "cell_type": "code",
      "metadata": {
        "id": "LwvP37YmSi0h",
        "colab": {
          "base_uri": "https://localhost:8080/"
        },
        "outputId": "7ce29370-6295-4286-af5a-15c79d670e1b"
      },
      "source": [
        "train_target.mean()\n",
        "# the mean of the target values can tell us how skewed the target values are\n",
        "# a very low mean can indicate that there are very few insincere questions"
      ],
      "execution_count": null,
      "outputs": [
        {
          "output_type": "execute_result",
          "data": {
            "text/plain": [
              "0.06187017751787352"
            ]
          },
          "metadata": {
            "tags": []
          },
          "execution_count": 13
        }
      ]
    },
    {
      "cell_type": "markdown",
      "metadata": {
        "id": "8-GdOi5Z9jyK"
      },
      "source": [
        "#Feature Engineering [Regression]\n",
        "\n",
        "Here we will come up with our own set of features from the data set and attempt to create a regression model. This can help us analyze and identify any patterns at a very basic level.\n",
        "\n",
        "Some features for any given question text could be:\n",
        "1. Number of words\n",
        "2. Number of unique words\n",
        "3. Number of characters\n",
        "4. Number of stopwords\n",
        "5. Number of punctuations\n",
        "6. Mean length of words"
      ]
    },
    {
      "cell_type": "code",
      "metadata": {
        "id": "VKUK0YF8TD2i"
      },
      "source": [
        "## Number of words in the Question text ##\n",
        "train[\"num_words\"] = train[\"question_text\"].apply(lambda x: len(str(x).split()))\n",
        "\n",
        "\n",
        "## Number of unique words in the Question text ##\n",
        "train[\"num_unique_words\"] = train[\"question_text\"].apply(lambda x: len(set(str(x).split())))\n",
        "\n",
        "\n",
        "## Number of characters in the Question text ##\n",
        "train[\"num_chars\"] = train[\"question_text\"].apply(lambda x: len(str(x)))\n",
        "\n",
        "\n",
        "## Number of stopwords in the Question text ##\n",
        "train[\"num_stopwords\"] = train[\"question_text\"].apply(lambda x: len([w for w in str(x).lower().split() if w in eng_stopwords]))\n",
        "\n",
        "## Number of punctuations in the Question text ##\n",
        "train[\"num_punctuations\"] =train['question_text'].apply(lambda x: len([c for c in str(x) if c in string.punctuation]) )\n",
        "\n",
        "\n",
        "## Number of title case words in the Question text ##\n",
        "train[\"num_words_upper\"] = train[\"question_text\"].apply(lambda x: len([w for w in str(x).split() if w.isupper()]))\n",
        "\n",
        "\n",
        "## Number of title case words in the Question text ##\n",
        "train[\"num_words_title\"] = train[\"question_text\"].apply(lambda x: len([w for w in str(x).split() if w.istitle()]))\n",
        "\n",
        "\n",
        "## Average length of the words in the Question text ##\n",
        "train[\"mean_word_len\"] = train[\"question_text\"].apply(lambda x: np.mean([len(w) for w in str(x).split()]))\n"
      ],
      "execution_count": null,
      "outputs": []
    },
    {
      "cell_type": "code",
      "metadata": {
        "colab": {
          "base_uri": "https://localhost:8080/",
          "height": 289
        },
        "id": "XePnImkMiYTJ",
        "outputId": "f96372d2-12d0-48ec-bf12-a932466183d3"
      },
      "source": [
        "train.head() # look at the updated feature columns in the data set"
      ],
      "execution_count": null,
      "outputs": [
        {
          "output_type": "execute_result",
          "data": {
            "text/html": [
              "<div>\n",
              "<style scoped>\n",
              "    .dataframe tbody tr th:only-of-type {\n",
              "        vertical-align: middle;\n",
              "    }\n",
              "\n",
              "    .dataframe tbody tr th {\n",
              "        vertical-align: top;\n",
              "    }\n",
              "\n",
              "    .dataframe thead th {\n",
              "        text-align: right;\n",
              "    }\n",
              "</style>\n",
              "<table border=\"1\" class=\"dataframe\">\n",
              "  <thead>\n",
              "    <tr style=\"text-align: right;\">\n",
              "      <th></th>\n",
              "      <th>qid</th>\n",
              "      <th>question_text</th>\n",
              "      <th>target</th>\n",
              "      <th>num_words</th>\n",
              "      <th>num_unique_words</th>\n",
              "      <th>num_chars</th>\n",
              "      <th>num_stopwords</th>\n",
              "      <th>num_punctuations</th>\n",
              "      <th>num_words_upper</th>\n",
              "      <th>num_words_title</th>\n",
              "      <th>mean_word_len</th>\n",
              "    </tr>\n",
              "  </thead>\n",
              "  <tbody>\n",
              "    <tr>\n",
              "      <th>0</th>\n",
              "      <td>00002165364db923c7e6</td>\n",
              "      <td>How did Quebec nationalists see their province...</td>\n",
              "      <td>0</td>\n",
              "      <td>13</td>\n",
              "      <td>13</td>\n",
              "      <td>72</td>\n",
              "      <td>7</td>\n",
              "      <td>1</td>\n",
              "      <td>0</td>\n",
              "      <td>2</td>\n",
              "      <td>4.615385</td>\n",
              "    </tr>\n",
              "    <tr>\n",
              "      <th>1</th>\n",
              "      <td>000032939017120e6e44</td>\n",
              "      <td>Do you have an adopted dog, how would you enco...</td>\n",
              "      <td>0</td>\n",
              "      <td>16</td>\n",
              "      <td>15</td>\n",
              "      <td>81</td>\n",
              "      <td>9</td>\n",
              "      <td>2</td>\n",
              "      <td>0</td>\n",
              "      <td>1</td>\n",
              "      <td>4.125000</td>\n",
              "    </tr>\n",
              "    <tr>\n",
              "      <th>2</th>\n",
              "      <td>0000412ca6e4628ce2cf</td>\n",
              "      <td>Why does velocity affect time? Does velocity a...</td>\n",
              "      <td>0</td>\n",
              "      <td>10</td>\n",
              "      <td>8</td>\n",
              "      <td>67</td>\n",
              "      <td>3</td>\n",
              "      <td>2</td>\n",
              "      <td>0</td>\n",
              "      <td>2</td>\n",
              "      <td>5.800000</td>\n",
              "    </tr>\n",
              "    <tr>\n",
              "      <th>3</th>\n",
              "      <td>000042bf85aa498cd78e</td>\n",
              "      <td>How did Otto von Guericke used the Magdeburg h...</td>\n",
              "      <td>0</td>\n",
              "      <td>9</td>\n",
              "      <td>9</td>\n",
              "      <td>57</td>\n",
              "      <td>3</td>\n",
              "      <td>1</td>\n",
              "      <td>0</td>\n",
              "      <td>4</td>\n",
              "      <td>5.444444</td>\n",
              "    </tr>\n",
              "    <tr>\n",
              "      <th>4</th>\n",
              "      <td>0000455dfa3e01eae3af</td>\n",
              "      <td>Can I convert montra helicon D to a mountain b...</td>\n",
              "      <td>0</td>\n",
              "      <td>15</td>\n",
              "      <td>15</td>\n",
              "      <td>77</td>\n",
              "      <td>8</td>\n",
              "      <td>1</td>\n",
              "      <td>2</td>\n",
              "      <td>3</td>\n",
              "      <td>4.200000</td>\n",
              "    </tr>\n",
              "  </tbody>\n",
              "</table>\n",
              "</div>"
            ],
            "text/plain": [
              "                    qid  ... mean_word_len\n",
              "0  00002165364db923c7e6  ...      4.615385\n",
              "1  000032939017120e6e44  ...      4.125000\n",
              "2  0000412ca6e4628ce2cf  ...      5.800000\n",
              "3  000042bf85aa498cd78e  ...      5.444444\n",
              "4  0000455dfa3e01eae3af  ...      4.200000\n",
              "\n",
              "[5 rows x 11 columns]"
            ]
          },
          "metadata": {
            "tags": []
          },
          "execution_count": 17
        }
      ]
    },
    {
      "cell_type": "markdown",
      "metadata": {
        "id": "79NkwLvMYozB"
      },
      "source": [
        "## Graphing the features"
      ]
    },
    {
      "cell_type": "code",
      "metadata": {
        "id": "AsMi7o3nUDzR",
        "colab": {
          "base_uri": "https://localhost:8080/",
          "height": 483
        },
        "outputId": "89e1c312-f7df-41a5-8747-4d4470424b42"
      },
      "source": [
        "# Number of words\n",
        "plt.figure(figsize=(12,8))\n",
        "sns.violinplot(data=train['num_words'])\n",
        "plt.show()"
      ],
      "execution_count": null,
      "outputs": [
        {
          "output_type": "display_data",
          "data": {
            "image/png": "[encoded data removed]",
            "text/plain": [
              "<Figure size 864x576 with 1 Axes>"
            ]
          },
          "metadata": {
            "tags": [],
            "needs_background": "light"
          }
        }
      ]
    },
    {
      "cell_type": "code",
      "metadata": {
        "id": "9SX74kHRVTzI",
        "colab": {
          "base_uri": "https://localhost:8080/",
          "height": 483
        },
        "outputId": "f49a4dd4-c3bc-4356-d60a-6dae79d9bfc9"
      },
      "source": [
        "# Number of unique words\n",
        "plt.figure(figsize=(12,8))\n",
        "sns.violinplot(data=train['num_unique_words'], color = 'red')\n",
        "plt.show()"
      ],
      "execution_count": null,
      "outputs": [
        {
          "output_type": "display_data",
          "data": {
            "image/png": "[encoded data removed]",
            "text/plain": [
              "<Figure size 864x576 with 1 Axes>"
            ]
          },
          "metadata": {
            "tags": [],
            "needs_background": "light"
          }
        }
      ]
    },
    {
      "cell_type": "code",
      "metadata": {
        "id": "dJDQlFxvU9SM",
        "colab": {
          "base_uri": "https://localhost:8080/",
          "height": 483
        },
        "outputId": "0614c065-e531-4660-d895-8347d9a1c64e"
      },
      "source": [
        "# Number of chars\n",
        "plt.figure(figsize=(12,8))\n",
        "sns.boxplot(data=train['num_chars'], color='orange')\n",
        "plt.show()"
      ],
      "execution_count": null,
      "outputs": [
        {
          "output_type": "display_data",
          "data": {
            "image/png": "[encoded data removed]",
            "text/plain": [
              "<Figure size 864x576 with 1 Axes>"
            ]
          },
          "metadata": {
            "tags": [],
            "needs_background": "light"
          }
        }
      ]
    },
    {
      "cell_type": "code",
      "metadata": {
        "id": "IvYasWVcVHOL",
        "colab": {
          "base_uri": "https://localhost:8080/",
          "height": 483
        },
        "outputId": "f498a2d0-021b-4532-e6bf-00871e490a3c"
      },
      "source": [
        "# Number of stopwords\n",
        "plt.figure(figsize=(12,8))\n",
        "sns.boxplot(data=train['num_stopwords'], color='green')\n",
        "plt.show()"
      ],
      "execution_count": null,
      "outputs": [
        {
          "output_type": "display_data",
          "data": {
            "image/png": "[encoded data removed]",
            "text/plain": [
              "<Figure size 864x576 with 1 Axes>"
            ]
          },
          "metadata": {
            "tags": [],
            "needs_background": "light"
          }
        }
      ]
    },
    {
      "cell_type": "code",
      "metadata": {
        "id": "RtAIfP2rVwKf",
        "colab": {
          "base_uri": "https://localhost:8080/",
          "height": 483
        },
        "outputId": "e70e90de-09d4-49da-83ec-172acb63552e"
      },
      "source": [
        "# Number of punctuations\n",
        "plt.figure(figsize=(12,8))\n",
        "sns.violinplot(data=train['num_punctuations'], color='violet')\n",
        "plt.show()"
      ],
      "execution_count": null,
      "outputs": [
        {
          "output_type": "display_data",
          "data": {
            "image/png": "[encoded data removed]",
            "text/plain": [
              "<Figure size 864x576 with 1 Axes>"
            ]
          },
          "metadata": {
            "tags": [],
            "needs_background": "light"
          }
        }
      ]
    },
    {
      "cell_type": "code",
      "metadata": {
        "id": "V6tflayFXeto",
        "colab": {
          "base_uri": "https://localhost:8080/",
          "height": 483
        },
        "outputId": "c002778e-a655-4bc7-cf98-c6443e4e0a26"
      },
      "source": [
        "# Number of words with upper case\n",
        "plt.figure(figsize=(12,8))\n",
        "sns.violinplot(data=train['num_words_upper'], color='yellow')\n",
        "plt.show()"
      ],
      "execution_count": null,
      "outputs": [
        {
          "output_type": "display_data",
          "data": {
            "image/png": "[encoded data removed]",
            "text/plain": [
              "<Figure size 864x576 with 1 Axes>"
            ]
          },
          "metadata": {
            "tags": [],
            "needs_background": "light"
          }
        }
      ]
    },
    {
      "cell_type": "code",
      "metadata": {
        "colab": {
          "base_uri": "https://localhost:8080/",
          "height": 483
        },
        "id": "8ai415IHYF3L",
        "outputId": "701b8372-cb5a-4828-8342-39441253e7c6"
      },
      "source": [
        "plt.figure(figsize=(12,8))\n",
        "sns.boxplot(data=train['num_words_title'], color='indigo')\n",
        "plt.show()"
      ],
      "execution_count": null,
      "outputs": [
        {
          "output_type": "display_data",
          "data": {
            "image/png": "[encoded data removed]",
            "text/plain": [
              "<Figure size 864x576 with 1 Axes>"
            ]
          },
          "metadata": {
            "tags": [],
            "needs_background": "light"
          }
        }
      ]
    },
    {
      "cell_type": "code",
      "metadata": {
        "id": "Y6K1zmHiYG2F",
        "colab": {
          "base_uri": "https://localhost:8080/",
          "height": 483
        },
        "outputId": "f5b9a2aa-8a16-4409-be35-3fe805dcbe69"
      },
      "source": [
        "# Mean length of words\n",
        "plt.figure(figsize=(12,8))\n",
        "sns.violinplot(data=train['mean_word_len'], color='magenta')\n",
        "plt.show()"
      ],
      "execution_count": null,
      "outputs": [
        {
          "output_type": "display_data",
          "data": {
            "image/png": "[encoded data removed]",
            "text/plain": [
              "<Figure size 864x576 with 1 Axes>"
            ]
          },
          "metadata": {
            "tags": [],
            "needs_background": "light"
          }
        }
      ]
    },
    {
      "cell_type": "markdown",
      "metadata": {
        "id": "jfRWs88Sb3Jk"
      },
      "source": [
        "# Training baseline methods\n",
        "\n",
        "We will explore 2 methods\n",
        "\n",
        "1. Bag of words\n",
        "2. TFIDF"
      ]
    },
    {
      "cell_type": "code",
      "metadata": {
        "id": "jIhXV1W7YlBg"
      },
      "source": [
        "eng_features = ['num_words', 'num_unique_words', 'num_chars', \n",
        "                'num_stopwords', 'num_punctuations', 'num_words_upper', \n",
        "                'num_words_title', 'mean_word_len']"
      ],
      "execution_count": null,
      "outputs": []
    },
    {
      "cell_type": "markdown",
      "metadata": {
        "id": "VK9xnidZZfnP"
      },
      "source": [
        "### Bag of words method"
      ]
    },
    {
      "cell_type": "code",
      "metadata": {
        "id": "zSoFH_xGY8XT"
      },
      "source": [
        "from sklearn.feature_extraction.text import CountVectorizer \n",
        "\n",
        "bow = CountVectorizer()"
      ],
      "execution_count": null,
      "outputs": []
    },
    {
      "cell_type": "code",
      "metadata": {
        "colab": {
          "base_uri": "https://localhost:8080/"
        },
        "id": "LkMLAw0--dIq",
        "outputId": "c9955b92-f679-4446-bd0f-c677afd05c85"
      },
      "source": [
        "# Bag of words method [Baseline 1]\n",
        "# Here the text input is converted to a set of normalized frequency values\n",
        "kf = KFold(n_splits=5, shuffle=True, random_state=43)\n",
        "test_pred_cv = 0\n",
        "oof_pred_cv = np.zeros([train.shape[0],])\n",
        "\n",
        "\n",
        "for i, (train_index, val_index) in tqdm(enumerate(kf.split(train))):\n",
        "    x_train, x_val = train.loc[train_index]['question_text'].values, train.loc[val_index]['question_text'].values\n",
        "    y_train, y_val = train_target[train_index], train_target[val_index]\n",
        "   \n",
        "    \n",
        "    bow = CountVectorizer()\n",
        "    x_train = bow.fit_transform(x_train)\n",
        "    x_val = bow.transform(x_val)\n",
        "    \n",
        "\n",
        "    classifier = LogisticRegression(penalty = \"l1\", C = 1.25, class_weight = \"balanced\", solver='liblinear')\n",
        "    \n",
        "    classifier.fit(x_train, y_train)\n",
        "    val_preds = classifier.predict_proba(x_val)[:,1]\n",
        "   \n",
        "    \n",
        "    oof_pred_cv[val_index] = val_preds"
      ],
      "execution_count": null,
      "outputs": [
        {
          "output_type": "stream",
          "text": [
            "5it [04:12, 50.41s/it]\n"
          ],
          "name": "stderr"
        }
      ]
    },
    {
      "cell_type": "code",
      "metadata": {
        "colab": {
          "base_uri": "https://localhost:8080/"
        },
        "id": "3wvLlqRY-eCV",
        "outputId": "9dac99ea-dc3b-4547-e2e6-7ec480f05b13"
      },
      "source": [
        "pred_train = (oof_pred_cv > 0.75).astype(np.int)\n",
        "f1_score(train_target, pred_train)"
      ],
      "execution_count": null,
      "outputs": [
        {
          "output_type": "execute_result",
          "data": {
            "text/plain": [
              "0.6052083226409091"
            ]
          },
          "metadata": {
            "tags": []
          },
          "execution_count": 27
        }
      ]
    },
    {
      "cell_type": "markdown",
      "metadata": {
        "id": "xaxA-XitbnSt"
      },
      "source": [
        "### TFIDF (Term Frequency Inverse Document Frequency) Method"
      ]
    },
    {
      "cell_type": "code",
      "metadata": {
        "id": "oKNBnBC-AGH_"
      },
      "source": [
        "# Term frequency inverse document frequency (TFIDF) [Baseline 2]\n",
        "train_text = train['question_text']\n",
        "word_vectorizer = TfidfVectorizer(\n",
        "    sublinear_tf=True,\n",
        "    strip_accents='unicode',\n",
        "    analyzer='word',\n",
        "    token_pattern=r'\\w{1,}',\n",
        "    stop_words='english',\n",
        "    ngram_range=(1, 1),\n",
        "    max_features=5000)\n",
        "\n",
        "train_word_features = word_vectorizer.fit_transform(train_text)"
      ],
      "execution_count": null,
      "outputs": []
    },
    {
      "cell_type": "code",
      "metadata": {
        "colab": {
          "base_uri": "https://localhost:8080/"
        },
        "id": "V1jjFzn_AzXp",
        "outputId": "1546c174-34d7-4b4b-f20a-026037f746c3"
      },
      "source": [
        "kf = KFold(n_splits=5, shuffle=True, random_state=43)\n",
        "test_pred_tf = 0\n",
        "oof_pred_tf = np.zeros([train.shape[0],])\n",
        "\n",
        "for i, (train_index, val_index) in tqdm(enumerate(kf.split(train))):\n",
        "    x_train, x_val = train_word_features[train_index,:], train_word_features[val_index,:]\n",
        "    y_train, y_val = train_target[train_index], train_target[val_index]\n",
        "    classifier = LogisticRegression(class_weight = \"balanced\", C=0.5, solver='liblinear')\n",
        "    classifier.fit(x_train, y_train)\n",
        "    val_preds = classifier.predict_proba(x_val)[:,1]\n",
        "    \n",
        "    \n",
        "    oof_pred_tf[val_index] = val_preds"
      ],
      "execution_count": null,
      "outputs": [
        {
          "output_type": "stream",
          "text": [
            "5it [00:40,  8.03s/it]\n"
          ],
          "name": "stderr"
        }
      ]
    },
    {
      "cell_type": "code",
      "metadata": {
        "colab": {
          "base_uri": "https://localhost:8080/"
        },
        "id": "GTXPE0alBEwt",
        "outputId": "dd1b38ed-4615-418e-a960-b74827526871"
      },
      "source": [
        "pred_train = (oof_pred_tf > 0.8).astype(np.int)\n",
        "f1_score(train_target, pred_train)"
      ],
      "execution_count": null,
      "outputs": [
        {
          "output_type": "execute_result",
          "data": {
            "text/plain": [
              "0.5660070393330711"
            ]
          },
          "metadata": {
            "tags": []
          },
          "execution_count": 30
        }
      ]
    },
    {
      "cell_type": "code",
      "metadata": {
        "colab": {
          "base_uri": "https://localhost:8080/"
        },
        "id": "32uyUiunByKv",
        "outputId": "f59ed5bd-71c5-4f0a-f492-5021aa8a85f7"
      },
      "source": [
        "import lightgbm as lgb\n",
        "\n",
        "def lgb_f1_score(y_hat, data):\n",
        "    y_true = data.get_label()\n",
        "    y_hat = np.round(y_hat) # scikits f1 doesn't like probabilities\n",
        "    return 'f1', f1_score(y_true, y_hat), True\n",
        "\n",
        "params = {'learning_rate': 0.05,\n",
        "          'application': 'regression',\n",
        "          'max_depth': 9,\n",
        "          'num_leaves': 100,\n",
        "          'verbosity': -1,\n",
        "          'metric': 'rmse',\n",
        "          'data_random_seed': 3,\n",
        "          'bagging_fraction': 0.8,\n",
        "          'feature_fraction': 0.4,\n",
        "          'nthread': 16,\n",
        "          'lambda_l1': 1,\n",
        "          'lambda_l2': 1,\n",
        "          'num_rounds': 2700,\n",
        "          'verbose_eval': 100}\n",
        "\n",
        "\n",
        "kf = KFold(n_splits=5, shuffle=True, random_state=43)\n",
        "test_pred_lgb = 0\n",
        "oof_pred_lgb = np.zeros([train.shape[0],])\n",
        "\n",
        "for i, (train_index, val_index) in tqdm(enumerate(kf.split(train))):\n",
        "    x_train, x_val = train_word_features[train_index,:], train_word_features[val_index,:]\n",
        "    y_train, y_val = train_target[train_index], train_target[val_index]\n",
        "    \n",
        "    d_train = lgb.Dataset(x_train, label=y_train)\n",
        "    d_valid = lgb.Dataset(x_val, label=y_val)\n",
        "\n",
        "    num_rounds = 2500\n",
        "    model = lgb.train(params,\n",
        "                  train_set=d_train,\n",
        "                  num_boost_round=num_rounds,\n",
        "                  valid_sets=[d_train, d_valid],\n",
        "                  valid_names=['train', 'val'],\n",
        "                  verbose_eval=0)\n",
        "    \n",
        "    val_preds = model.predict(x_val)\n",
        "    \n",
        "    oof_pred_lgb[val_index] = val_preds"
      ],
      "execution_count": null,
      "outputs": [
        {
          "output_type": "stream",
          "text": [
            "\r0it [00:00, ?it/s]/usr/local/lib/python3.7/dist-packages/lightgbm/engine.py:118: UserWarning: Found `num_rounds` in params. Will use it instead of argument\n",
            "  warnings.warn(\"Found `{}` in params. Will use it instead of argument\".format(alias))\n",
            "5it [1:02:15, 747.06s/it]\n"
          ],
          "name": "stderr"
        }
      ]
    },
    {
      "cell_type": "code",
      "metadata": {
        "colab": {
          "base_uri": "https://localhost:8080/",
          "height": 289
        },
        "id": "Jy0J3BKXCfCK",
        "outputId": "9cd9e1d7-7906-4d1c-ddfa-c5e2620fafd4"
      },
      "source": [
        "train.head()"
      ],
      "execution_count": null,
      "outputs": [
        {
          "output_type": "execute_result",
          "data": {
            "text/html": [
              "<div>\n",
              "<style scoped>\n",
              "    .dataframe tbody tr th:only-of-type {\n",
              "        vertical-align: middle;\n",
              "    }\n",
              "\n",
              "    .dataframe tbody tr th {\n",
              "        vertical-align: top;\n",
              "    }\n",
              "\n",
              "    .dataframe thead th {\n",
              "        text-align: right;\n",
              "    }\n",
              "</style>\n",
              "<table border=\"1\" class=\"dataframe\">\n",
              "  <thead>\n",
              "    <tr style=\"text-align: right;\">\n",
              "      <th></th>\n",
              "      <th>qid</th>\n",
              "      <th>question_text</th>\n",
              "      <th>target</th>\n",
              "      <th>num_words</th>\n",
              "      <th>num_unique_words</th>\n",
              "      <th>num_chars</th>\n",
              "      <th>num_stopwords</th>\n",
              "      <th>num_punctuations</th>\n",
              "      <th>num_words_upper</th>\n",
              "      <th>num_words_title</th>\n",
              "      <th>mean_word_len</th>\n",
              "    </tr>\n",
              "  </thead>\n",
              "  <tbody>\n",
              "    <tr>\n",
              "      <th>0</th>\n",
              "      <td>00002165364db923c7e6</td>\n",
              "      <td>How did Quebec nationalists see their province...</td>\n",
              "      <td>0</td>\n",
              "      <td>13</td>\n",
              "      <td>13</td>\n",
              "      <td>72</td>\n",
              "      <td>7</td>\n",
              "      <td>1</td>\n",
              "      <td>0</td>\n",
              "      <td>2</td>\n",
              "      <td>4.615385</td>\n",
              "    </tr>\n",
              "    <tr>\n",
              "      <th>1</th>\n",
              "      <td>000032939017120e6e44</td>\n",
              "      <td>Do you have an adopted dog, how would you enco...</td>\n",
              "      <td>0</td>\n",
              "      <td>16</td>\n",
              "      <td>15</td>\n",
              "      <td>81</td>\n",
              "      <td>9</td>\n",
              "      <td>2</td>\n",
              "      <td>0</td>\n",
              "      <td>1</td>\n",
              "      <td>4.125000</td>\n",
              "    </tr>\n",
              "    <tr>\n",
              "      <th>2</th>\n",
              "      <td>0000412ca6e4628ce2cf</td>\n",
              "      <td>Why does velocity affect time? Does velocity a...</td>\n",
              "      <td>0</td>\n",
              "      <td>10</td>\n",
              "      <td>8</td>\n",
              "      <td>67</td>\n",
              "      <td>3</td>\n",
              "      <td>2</td>\n",
              "      <td>0</td>\n",
              "      <td>2</td>\n",
              "      <td>5.800000</td>\n",
              "    </tr>\n",
              "    <tr>\n",
              "      <th>3</th>\n",
              "      <td>000042bf85aa498cd78e</td>\n",
              "      <td>How did Otto von Guericke used the Magdeburg h...</td>\n",
              "      <td>0</td>\n",
              "      <td>9</td>\n",
              "      <td>9</td>\n",
              "      <td>57</td>\n",
              "      <td>3</td>\n",
              "      <td>1</td>\n",
              "      <td>0</td>\n",
              "      <td>4</td>\n",
              "      <td>5.444444</td>\n",
              "    </tr>\n",
              "    <tr>\n",
              "      <th>4</th>\n",
              "      <td>0000455dfa3e01eae3af</td>\n",
              "      <td>Can I convert montra helicon D to a mountain b...</td>\n",
              "      <td>0</td>\n",
              "      <td>15</td>\n",
              "      <td>15</td>\n",
              "      <td>77</td>\n",
              "      <td>8</td>\n",
              "      <td>1</td>\n",
              "      <td>2</td>\n",
              "      <td>3</td>\n",
              "      <td>4.200000</td>\n",
              "    </tr>\n",
              "  </tbody>\n",
              "</table>\n",
              "</div>"
            ],
            "text/plain": [
              "                    qid  ... mean_word_len\n",
              "0  00002165364db923c7e6  ...      4.615385\n",
              "1  000032939017120e6e44  ...      4.125000\n",
              "2  0000412ca6e4628ce2cf  ...      5.800000\n",
              "3  000042bf85aa498cd78e  ...      5.444444\n",
              "4  0000455dfa3e01eae3af  ...      4.200000\n",
              "\n",
              "[5 rows x 11 columns]"
            ]
          },
          "metadata": {
            "tags": []
          },
          "execution_count": 32
        }
      ]
    },
    {
      "cell_type": "code",
      "metadata": {
        "id": "areDrSpXWm8K"
      },
      "source": [
        ""
      ],
      "execution_count": null,
      "outputs": []
    },
    {
      "cell_type": "markdown",
      "metadata": {
        "id": "6uzVgbISWrK4"
      },
      "source": [
        "#Comparison of Different Word Embeddings"
      ]
    },
    {
      "cell_type": "code",
      "metadata": {
        "id": "jmwvAfDOWvfh"
      },
      "source": [
        "train = train[['qid', 'question_text', 'target']]"
      ],
      "execution_count": null,
      "outputs": []
    },
    {
      "cell_type": "code",
      "metadata": {
        "id": "NXzv0kwHW3v7"
      },
      "source": [
        "train_df, val_df = train_test_split(train, test_size=0.1, random_state=3690)\n",
        "\n",
        "\n",
        "embed_size = 300 # Dimensions of each word vector\n",
        "max_features = 50000 # Number of words to be used as vocab\n",
        "maxlen = 100 # max number of words in a question to use\n",
        "\n",
        "## fill up the missing values\n",
        "train_X = train_df[\"question_text\"].fillna(\"_na_\").values\n",
        "val_X = val_df[\"question_text\"].fillna(\"_na_\").values"
      ],
      "execution_count": null,
      "outputs": []
    },
    {
      "cell_type": "code",
      "metadata": {
        "id": "G1JW1--OXZUv"
      },
      "source": [
        "## Tokenize the sentences\n",
        "tokenizer = Tokenizer(num_words=max_features)\n",
        "tokenizer.fit_on_texts(list(train_X))\n",
        "train_X = tokenizer.texts_to_sequences(train_X)\n",
        "val_X = tokenizer.texts_to_sequences(val_X)"
      ],
      "execution_count": null,
      "outputs": []
    },
    {
      "cell_type": "code",
      "metadata": {
        "id": "IfAhM5FSXexR"
      },
      "source": [
        "#Padding of the sentences to make it equal length \n",
        "train_X = pad_sequences(train_X, maxlen=maxlen)\n",
        "val_X = pad_sequences(val_X, maxlen=maxlen)"
      ],
      "execution_count": null,
      "outputs": []
    },
    {
      "cell_type": "code",
      "metadata": {
        "id": "b1nPE5HGXhKu"
      },
      "source": [
        "train_y = train_df['target'].values\n",
        "val_y = val_df['target'].values"
      ],
      "execution_count": null,
      "outputs": []
    },
    {
      "cell_type": "code",
      "metadata": {
        "colab": {
          "base_uri": "https://localhost:8080/"
        },
        "id": "Tntgw3NNXjMG",
        "outputId": "790646f2-ae98-42e7-f45d-f9bf5d43026f"
      },
      "source": [
        "inp = Input(shape=(maxlen,))\n",
        "x = Embedding(max_features, embed_size)(inp)\n",
        "x = Bidirectional(CuDNNGRU(64, return_sequences=True))(x)\n",
        "x = GlobalMaxPool1D()(x)\n",
        "x = Dense(16, activation=\"relu\")(x)\n",
        "x = Dropout(0.1)(x)\n",
        "x = Dense(1, activation=\"sigmoid\")(x)\n",
        "model = Model(inputs=inp, outputs=x)\n",
        "model.compile(loss='binary_crossentropy', optimizer='adam', metrics=['accuracy'])\n",
        "\n",
        "print(model.summary())\n"
      ],
      "execution_count": null,
      "outputs": [
        {
          "output_type": "stream",
          "text": [
            "Model: \"model\"\n",
            "_________________________________________________________________\n",
            "Layer (type)                 Output Shape              Param #   \n",
            "=================================================================\n",
            "input_1 (InputLayer)         [(None, 100)]             0         \n",
            "_________________________________________________________________\n",
            "embedding (Embedding)        (None, 100, 300)          15000000  \n",
            "_________________________________________________________________\n",
            "bidirectional (Bidirectional (None, 100, 128)          140544    \n",
            "_________________________________________________________________\n",
            "global_max_pooling1d (Global (None, 128)               0         \n",
            "_________________________________________________________________\n",
            "dense (Dense)                (None, 16)                2064      \n",
            "_________________________________________________________________\n",
            "dropout (Dropout)            (None, 16)                0         \n",
            "_________________________________________________________________\n",
            "dense_1 (Dense)              (None, 1)                 17        \n",
            "=================================================================\n",
            "Total params: 15,142,625\n",
            "Trainable params: 15,142,625\n",
            "Non-trainable params: 0\n",
            "_________________________________________________________________\n",
            "None\n"
          ],
          "name": "stdout"
        }
      ]
    },
    {
      "cell_type": "code",
      "metadata": {
        "colab": {
          "base_uri": "https://localhost:8080/"
        },
        "id": "uVHE1P5AXygQ",
        "outputId": "721d3808-fbf1-44fd-dbde-a8c0a6e8fdaa"
      },
      "source": [
        "model.fit(train_X, train_y, batch_size=512, epochs=10, validation_data=(val_X, val_y))\n"
      ],
      "execution_count": null,
      "outputs": [
        {
          "output_type": "stream",
          "text": [
            "Epoch 1/10\n",
            "2296/2296 [==============================] - 708s 295ms/step - loss: 0.1500 - accuracy: 0.9474 - val_loss: 0.1087 - val_accuracy: 0.9569\n",
            "Epoch 2/10\n",
            "2296/2296 [==============================] - 662s 288ms/step - loss: 0.0962 - accuracy: 0.9617 - val_loss: 0.1082 - val_accuracy: 0.9568\n",
            "Epoch 3/10\n",
            "2296/2296 [==============================] - 657s 286ms/step - loss: 0.0802 - accuracy: 0.9680 - val_loss: 0.1145 - val_accuracy: 0.9552\n",
            "Epoch 4/10\n",
            "2296/2296 [==============================] - 663s 289ms/step - loss: 0.0635 - accuracy: 0.9748 - val_loss: 0.1334 - val_accuracy: 0.9547\n",
            "Epoch 5/10\n",
            "2296/2296 [==============================] - 664s 289ms/step - loss: 0.0478 - accuracy: 0.9809 - val_loss: 0.1522 - val_accuracy: 0.9532\n",
            "Epoch 6/10\n",
            "2296/2296 [==============================] - 663s 289ms/step - loss: 0.0359 - accuracy: 0.9854 - val_loss: 0.1861 - val_accuracy: 0.9504\n",
            "Epoch 7/10\n",
            "2296/2296 [==============================] - 654s 285ms/step - loss: 0.0270 - accuracy: 0.9890 - val_loss: 0.2172 - val_accuracy: 0.9498\n",
            "Epoch 8/10\n",
            "2296/2296 [==============================] - 666s 290ms/step - loss: 0.0210 - accuracy: 0.9913 - val_loss: 0.2837 - val_accuracy: 0.9495\n",
            "Epoch 9/10\n",
            "2296/2296 [==============================] - 668s 291ms/step - loss: 0.0172 - accuracy: 0.9930 - val_loss: 0.2944 - val_accuracy: 0.9496\n",
            "Epoch 10/10\n",
            "2296/2296 [==============================] - 654s 285ms/step - loss: 0.0144 - accuracy: 0.9941 - val_loss: 0.3198 - val_accuracy: 0.9473\n"
          ],
          "name": "stdout"
        },
        {
          "output_type": "execute_result",
          "data": {
            "text/plain": [
              "<tensorflow.python.keras.callbacks.History at 0x7f858a6b5290>"
            ]
          },
          "metadata": {
            "tags": []
          },
          "execution_count": 39
        }
      ]
    },
    {
      "cell_type": "code",
      "metadata": {
        "colab": {
          "base_uri": "https://localhost:8080/"
        },
        "id": "0GBrlGLgaxaE",
        "outputId": "bb249faa-0a35-4405-ef6b-82f89647b541"
      },
      "source": [
        "pred_noemb_val_y = model.predict([val_X], batch_size=1024, verbose=1)\n",
        "for thresh in np.arange(0.1, 0.501, 0.01):\n",
        "    thresh = np.round(thresh, 2)\n",
        "    print(\"F1 score at threshold {0} is {1}\".format(thresh, metrics.f1_score(val_y, (pred_noemb_val_y>thresh).astype(int))))"
      ],
      "execution_count": null,
      "outputs": [
        {
          "output_type": "stream",
          "text": [
            "128/128 [==============================] - 10s 77ms/step\n",
            "F1 score at threshold 0.1 is 0.5736898395721926\n",
            "F1 score at threshold 0.11 is 0.5751669179409864\n",
            "F1 score at threshold 0.12 is 0.574867179876396\n",
            "F1 score at threshold 0.13 is 0.575119930222416\n",
            "F1 score at threshold 0.14 is 0.5760017540974621\n",
            "F1 score at threshold 0.15 is 0.5769400352733687\n",
            "F1 score at threshold 0.16 is 0.5772772661710863\n",
            "F1 score at threshold 0.17 is 0.5783428125348501\n",
            "F1 score at threshold 0.18 is 0.5781188728922748\n",
            "F1 score at threshold 0.19 is 0.5785505289218996\n",
            "F1 score at threshold 0.2 is 0.5793906506133063\n",
            "F1 score at threshold 0.21 is 0.5793713831839328\n",
            "F1 score at threshold 0.22 is 0.579855377782839\n",
            "F1 score at threshold 0.23 is 0.5794168096054888\n",
            "F1 score at threshold 0.24 is 0.5790983136400137\n",
            "F1 score at threshold 0.25 is 0.5781384907615266\n",
            "F1 score at threshold 0.26 is 0.5779472073008723\n",
            "F1 score at threshold 0.27 is 0.5779529384490554\n",
            "F1 score at threshold 0.28 is 0.5778578904523781\n",
            "F1 score at threshold 0.29 is 0.5772979282170996\n",
            "F1 score at threshold 0.3 is 0.5778844465257857\n",
            "F1 score at threshold 0.31 is 0.5772481803240197\n",
            "F1 score at threshold 0.32 is 0.5772333784818325\n",
            "F1 score at threshold 0.33 is 0.5771138403401039\n",
            "F1 score at threshold 0.34 is 0.5771144278606967\n",
            "F1 score at threshold 0.35 is 0.5764545076365366\n",
            "F1 score at threshold 0.36 is 0.5764691858385982\n",
            "F1 score at threshold 0.37 is 0.5761252914101261\n",
            "F1 score at threshold 0.38 is 0.575316190133669\n",
            "F1 score at threshold 0.39 is 0.5749669351929783\n",
            "F1 score at threshold 0.4 is 0.5741165118803522\n",
            "F1 score at threshold 0.41 is 0.5736059029877828\n",
            "F1 score at threshold 0.42 is 0.5730234815848553\n",
            "F1 score at threshold 0.43 is 0.5728374018384368\n",
            "F1 score at threshold 0.44 is 0.5729802294361728\n",
            "F1 score at threshold 0.45 is 0.5729153912085222\n",
            "F1 score at threshold 0.46 is 0.5720955950113656\n",
            "F1 score at threshold 0.47 is 0.5716929911154985\n",
            "F1 score at threshold 0.48 is 0.5707918033801771\n",
            "F1 score at threshold 0.49 is 0.5706474462532621\n",
            "F1 score at threshold 0.5 is 0.570430878593253\n"
          ],
          "name": "stdout"
        }
      ]
    },
    {
      "cell_type": "code",
      "metadata": {
        "colab": {
          "base_uri": "https://localhost:8080/"
        },
        "id": "bk0SOV6Xa1Ya",
        "outputId": "b303b566-e934-46d3-f824-1ed1e0ccbd01"
      },
      "source": [
        "EMBEDDING_FILE = 'glove.840B.300d/glove.840B.300d.txt'\n",
        "def get_coefs(word,*arr): return word, np.asarray(arr, dtype='float32')\n",
        "embeddings_index = dict(get_coefs(*o.split(\" \")) for o in open(EMBEDDING_FILE))\n",
        "\n",
        "all_embs = np.stack(embeddings_index.values())\n",
        "emb_mean,emb_std = all_embs.mean(), all_embs.std()\n",
        "embed_size = all_embs.shape[1]\n",
        "\n",
        "word_index = tokenizer.word_index\n",
        "nb_words = min(max_features, len(word_index))\n",
        "embedding_matrix = np.random.normal(emb_mean, emb_std, (nb_words, embed_size))\n",
        "for word, i in word_index.items():\n",
        "    if i >= max_features: continue\n",
        "    embedding_vector = embeddings_index.get(word)\n",
        "    if embedding_vector is not None: embedding_matrix[i] = embedding_vector\n",
        "        \n",
        "inp = Input(shape=(maxlen,))\n",
        "x = Embedding(max_features, embed_size, weights=[embedding_matrix])(inp)\n",
        "x = Bidirectional(CuDNNGRU(64, return_sequences=True))(x)\n",
        "x = GlobalMaxPool1D()(x)\n",
        "x = Dense(16, activation=\"relu\")(x)\n",
        "x = Dropout(0.1)(x)\n",
        "x = Dense(1, activation=\"sigmoid\")(x)\n",
        "model = Model(inputs=inp, outputs=x)\n",
        "model.compile(loss='binary_crossentropy', optimizer='adam', metrics=['accuracy'])\n",
        "print(model.summary())"
      ],
      "execution_count": null,
      "outputs": [
        {
          "output_type": "stream",
          "text": [
            "/usr/local/lib/python3.7/dist-packages/IPython/core/interactiveshell.py:2822: FutureWarning: arrays to stack must be passed as a \"sequence\" type such as list or tuple. Support for non-sequence iterables such as generators is deprecated as of NumPy 1.16 and will raise an error in the future.\n",
            "  if self.run_code(code, result):\n"
          ],
          "name": "stderr"
        },
        {
          "output_type": "stream",
          "text": [
            "Model: \"model_1\"\n",
            "_________________________________________________________________\n",
            "Layer (type)                 Output Shape              Param #   \n",
            "=================================================================\n",
            "input_2 (InputLayer)         [(None, 100)]             0         \n",
            "_________________________________________________________________\n",
            "embedding_1 (Embedding)      (None, 100, 300)          15000000  \n",
            "_________________________________________________________________\n",
            "bidirectional_1 (Bidirection (None, 100, 128)          140544    \n",
            "_________________________________________________________________\n",
            "global_max_pooling1d_1 (Glob (None, 128)               0         \n",
            "_________________________________________________________________\n",
            "dense_2 (Dense)              (None, 16)                2064      \n",
            "_________________________________________________________________\n",
            "dropout_1 (Dropout)          (None, 16)                0         \n",
            "_________________________________________________________________\n",
            "dense_3 (Dense)              (None, 1)                 17        \n",
            "=================================================================\n",
            "Total params: 15,142,625\n",
            "Trainable params: 15,142,625\n",
            "Non-trainable params: 0\n",
            "_________________________________________________________________\n",
            "None\n"
          ],
          "name": "stdout"
        }
      ]
    },
    {
      "cell_type": "code",
      "metadata": {
        "colab": {
          "base_uri": "https://localhost:8080/"
        },
        "id": "94kDzLPxvMWy",
        "outputId": "899005b0-7789-44fd-c3fc-a1135376e1b9"
      },
      "source": [
        "model.fit(train_X, train_y, batch_size=512, epochs=3, validation_data=(val_X, val_y))"
      ],
      "execution_count": null,
      "outputs": [
        {
          "output_type": "stream",
          "text": [
            "Epoch 1/3\n",
            "2296/2296 [==============================] - 711s 309ms/step - loss: 0.1415 - accuracy: 0.9473 - val_loss: 0.1025 - val_accuracy: 0.9591\n",
            "Epoch 2/3\n",
            "2296/2296 [==============================] - 690s 301ms/step - loss: 0.0934 - accuracy: 0.9635 - val_loss: 0.1022 - val_accuracy: 0.9589\n",
            "Epoch 3/3\n",
            "2296/2296 [==============================] - 688s 300ms/step - loss: 0.0787 - accuracy: 0.9688 - val_loss: 0.1071 - val_accuracy: 0.9585\n"
          ],
          "name": "stdout"
        },
        {
          "output_type": "execute_result",
          "data": {
            "text/plain": [
              "<tensorflow.python.keras.callbacks.History at 0x7f84b5b18450>"
            ]
          },
          "metadata": {
            "tags": []
          },
          "execution_count": 43
        }
      ]
    },
    {
      "cell_type": "code",
      "metadata": {
        "colab": {
          "base_uri": "https://localhost:8080/"
        },
        "id": "pfLrZvLZxI9s",
        "outputId": "3f7b066b-1536-41bc-92c0-d16fdf645e61"
      },
      "source": [
        "pred_glove_val_y = model.predict([val_X], batch_size=1024, verbose=1)\n",
        "for thresh in np.arange(0.1, 0.501, 0.01):\n",
        "    thresh = np.round(thresh, 2)\n",
        "    print(\"F1 score at threshold {0} is {1}\".format(thresh, metrics.f1_score(val_y, (pred_glove_val_y>thresh).astype(int))))\n"
      ],
      "execution_count": null,
      "outputs": [
        {
          "output_type": "stream",
          "text": [
            "128/128 [==============================] - 6s 45ms/step\n",
            "F1 score at threshold 0.1 is 0.6250573236723838\n",
            "F1 score at threshold 0.11 is 0.6298970512880234\n",
            "F1 score at threshold 0.12 is 0.634603550295858\n",
            "F1 score at threshold 0.13 is 0.6384696722099394\n",
            "F1 score at threshold 0.14 is 0.6407643933115585\n",
            "F1 score at threshold 0.15 is 0.6448011854778958\n",
            "F1 score at threshold 0.16 is 0.6480072100941318\n",
            "F1 score at threshold 0.17 is 0.6505621391674262\n",
            "F1 score at threshold 0.18 is 0.6529086439983613\n",
            "F1 score at threshold 0.19 is 0.654417473215672\n",
            "F1 score at threshold 0.2 is 0.6559055529436347\n",
            "F1 score at threshold 0.21 is 0.6577683988393563\n",
            "F1 score at threshold 0.22 is 0.6593465167101967\n",
            "F1 score at threshold 0.23 is 0.6610342786417694\n",
            "F1 score at threshold 0.24 is 0.6615919965202262\n",
            "F1 score at threshold 0.25 is 0.6634852723383249\n",
            "F1 score at threshold 0.26 is 0.6647491564798936\n",
            "F1 score at threshold 0.27 is 0.6654019974334654\n",
            "F1 score at threshold 0.28 is 0.6655046387405116\n",
            "F1 score at threshold 0.29 is 0.6662512038977961\n",
            "F1 score at threshold 0.3 is 0.6662860405366829\n",
            "F1 score at threshold 0.31 is 0.66635992408121\n",
            "F1 score at threshold 0.32 is 0.6648122392211405\n",
            "F1 score at threshold 0.33 is 0.6650712117674527\n",
            "F1 score at threshold 0.34 is 0.6648235294117648\n",
            "F1 score at threshold 0.35 is 0.6641370723898737\n",
            "F1 score at threshold 0.36 is 0.6634018155757287\n",
            "F1 score at threshold 0.37 is 0.6633365430909965\n",
            "F1 score at threshold 0.38 is 0.6627075505999274\n",
            "F1 score at threshold 0.39 is 0.6628382918932127\n",
            "F1 score at threshold 0.4 is 0.661252614740987\n",
            "F1 score at threshold 0.41 is 0.6600991325898389\n",
            "F1 score at threshold 0.42 is 0.6578471138845554\n",
            "F1 score at threshold 0.43 is 0.6565961732124874\n",
            "F1 score at threshold 0.44 is 0.654070504691859\n",
            "F1 score at threshold 0.45 is 0.6529934189508657\n",
            "F1 score at threshold 0.46 is 0.6508273775030584\n",
            "F1 score at threshold 0.47 is 0.6493405236826716\n",
            "F1 score at threshold 0.48 is 0.6453686696405142\n",
            "F1 score at threshold 0.49 is 0.6425028110324758\n",
            "F1 score at threshold 0.5 is 0.6394394394394395\n"
          ],
          "name": "stdout"
        }
      ]
    },
    {
      "cell_type": "code",
      "metadata": {
        "id": "CTV-sYwrxJ8S"
      },
      "source": [
        ""
      ],
      "execution_count": null,
      "outputs": []
    },
    {
      "cell_type": "code",
      "metadata": {
        "id": "-5vWReHxkYhG"
      },
      "source": [
        ""
      ],
      "execution_count": null,
      "outputs": []
    },
    {
      "cell_type": "markdown",
      "metadata": {
        "id": "ssNfFHwSnrBW"
      },
      "source": [
        "# BI-GRU method\n"
      ]
    },
    {
      "cell_type": "code",
      "metadata": {
        "id": "mo-P67prqkPE",
        "colab": {
          "resources": {
            "http://localhost:8080/nbextensions/google.colab/files.js": {
              "data": "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",
              "ok": true,
              "headers": [
                [
                  "content-type",
                  "application/javascript"
                ]
              ],
              "status": 200,
              "status_text": ""
            }
          },
          "base_uri": "https://localhost:8080/",
          "height": 748
        },
        "outputId": "cd095c32-de41-4141-e4dd-ca69cb210b30"
      },
      "source": [
        "!pip install kaggle # we are using kaggles api to download the dataset\n",
        "from google.colab import files\n",
        "files.upload()\n",
        "\n",
        "!mkdir ~/.kaggle\n",
        "\n",
        "!cp kaggle.json ~/.kaggle/\n",
        "!chmod 600 ~/.kaggle/kaggle.json\n",
        "\n",
        "!kaggle competitions download -c quora-insincere-questions-classification\n",
        "\n",
        "!unzip embeddings.zip\n",
        "\n",
        "!unzip train.csv.zip\n",
        "!unzip test.csv.zip"
      ],
      "execution_count": null,
      "outputs": [
        {
          "output_type": "stream",
          "text": [
            "Requirement already satisfied: kaggle in /usr/local/lib/python3.7/dist-packages (1.5.12)\n",
            "Requirement already satisfied: python-slugify in /usr/local/lib/python3.7/dist-packages (from kaggle) (4.0.1)\n",
            "Requirement already satisfied: certifi in /usr/local/lib/python3.7/dist-packages (from kaggle) (2020.12.5)\n",
            "Requirement already satisfied: urllib3 in /usr/local/lib/python3.7/dist-packages (from kaggle) (1.24.3)\n",
            "Requirement already satisfied: python-dateutil in /usr/local/lib/python3.7/dist-packages (from kaggle) (2.8.1)\n",
            "Requirement already satisfied: six>=1.10 in /usr/local/lib/python3.7/dist-packages (from kaggle) (1.15.0)\n",
            "Requirement already satisfied: tqdm in /usr/local/lib/python3.7/dist-packages (from kaggle) (4.41.1)\n",
            "Requirement already satisfied: requests in /usr/local/lib/python3.7/dist-packages (from kaggle) (2.23.0)\n",
            "Requirement already satisfied: text-unidecode>=1.3 in /usr/local/lib/python3.7/dist-packages (from python-slugify->kaggle) (1.3)\n",
            "Requirement already satisfied: idna<3,>=2.5 in /usr/local/lib/python3.7/dist-packages (from requests->kaggle) (2.10)\n",
            "Requirement already satisfied: chardet<4,>=3.0.2 in /usr/local/lib/python3.7/dist-packages (from requests->kaggle) (3.0.4)\n"
          ],
          "name": "stdout"
        },
        {
          "output_type": "display_data",
          "data": {
            "text/html": [
              "\n",
              "     <input type=\"file\" id=\"files-dc498639-dc47-430d-a171-2038515e2f0c\" name=\"files[]\" multiple disabled\n",
              "        style=\"border:none\" />\n",
              "     <output id=\"result-dc498639-dc47-430d-a171-2038515e2f0c\">\n",
              "      Upload widget is only available when the cell has been executed in the\n",
              "      current browser session. Please rerun this cell to enable.\n",
              "      </output>\n",
              "      <script src=\"/nbextensions/google.colab/files.js\"></script> "
            ],
            "text/plain": [
              "<IPython.core.display.HTML object>"
            ]
          },
          "metadata": {
            "tags": []
          }
        },
        {
          "output_type": "stream",
          "text": [
            "Saving kaggle.json to kaggle.json\n",
            "Warning: Looks like you're using an outdated API Version, please consider updating (server 1.5.12 / client 1.5.4)\n",
            "Downloading embeddings.zip to /content\n",
            "100% 5.95G/5.96G [02:09<00:00, 42.7MB/s]\n",
            "100% 5.96G/5.96G [02:09<00:00, 49.3MB/s]\n",
            "Downloading train.csv.zip to /content\n",
            " 75% 41.0M/54.9M [00:01<00:08, 1.71MB/s]\n",
            "100% 54.9M/54.9M [00:01<00:00, 34.5MB/s]\n",
            "Downloading sample_submission.csv.zip to /content\n",
            "100% 4.09M/4.09M [00:00<00:00, 30.4MB/s]\n",
            "\n",
            "Downloading test.csv.zip to /content\n",
            " 57% 9.00M/15.8M [00:00<00:00, 30.1MB/s]\n",
            "100% 15.8M/15.8M [00:00<00:00, 40.0MB/s]\n",
            "Archive:  embeddings.zip\n",
            "   creating: GoogleNews-vectors-negative300/\n",
            "   creating: glove.840B.300d/\n",
            "   creating: paragram_300_sl999/\n",
            "   creating: wiki-news-300d-1M/\n",
            "  inflating: glove.840B.300d/glove.840B.300d.txt  \n",
            "  inflating: GoogleNews-vectors-negative300/GoogleNews-vectors-negative300.bin  \n",
            "  inflating: wiki-news-300d-1M/wiki-news-300d-1M.vec  \n",
            "  inflating: paragram_300_sl999/README.txt  \n",
            "  inflating: paragram_300_sl999/paragram_300_sl999.txt  \n",
            "Archive:  train.csv.zip\n",
            "  inflating: train.csv               \n",
            "Archive:  test.csv.zip\n",
            "  inflating: test.csv                \n"
          ],
          "name": "stdout"
        }
      ]
    },
    {
      "cell_type": "code",
      "metadata": {
        "id": "ZrGbhFEhnvD0"
      },
      "source": [
        "import os\n",
        "import numpy as np\n",
        "import pandas as pd\n",
        "import time\n",
        "from tqdm import tqdm\n",
        "\n",
        "from sklearn.model_selection import train_test_split\n",
        "from sklearn import metrics\n",
        "\n",
        "from keras.preprocessing.text import Tokenizer\n",
        "from keras.preprocessing.sequence import pad_sequences\n",
        "from keras.layers import Dense, Input, LSTM, Embedding, Dropout, Activation, Conv1D\n",
        "from tensorflow.compat.v1.keras.layers import CuDNNGRU, CuDNNLSTM\n",
        "from keras.layers import Bidirectional, GlobalMaxPool1D\n",
        "from keras.models import Model\n",
        "from keras import initializers, regularizers, constraints, optimizers, layers\n",
        "from keras.callbacks import ModelCheckpoint\n",
        "from keras.utils import np_utils\n",
        "import re\n",
        "\n",
        "# Imports for visualisations\n",
        "from IPython.display import HTML as html_print\n",
        "from IPython.display import display\n",
        "import lightgbm as lgb\n",
        "\n",
        "from sklearn.metrics import f1_score\n",
        "from sklearn.model_selection import KFold\n",
        "from sklearn.feature_extraction.text import TfidfVectorizer\n",
        "from sklearn.linear_model import LogisticRegression\n",
        "from sklearn.model_selection import cross_val_score\n",
        "from sklearn.naive_bayes import GaussianNB, MultinomialNB, BernoulliNB\n",
        "\n",
        "import nltk\n",
        "from nltk.corpus import stopwords\n",
        "import string\n",
        "\n",
        "from scipy.sparse import hstack\n",
        "\n",
        "import matplotlib.pyplot as plt\n",
        "import seaborn as sns\n"
      ],
      "execution_count": null,
      "outputs": []
    },
    {
      "cell_type": "code",
      "metadata": {
        "colab": {
          "base_uri": "https://localhost:8080/",
          "height": 494
        },
        "id": "SKqI4PKB9FuR",
        "outputId": "13c038e8-bee7-47ee-c8da-5e7c2034d0a9"
      },
      "source": [
        ""
      ],
      "execution_count": null,
      "outputs": [
        {
          "output_type": "error",
          "ename": "ParserError",
          "evalue": "ignored",
          "traceback": [
            "\u001b[0;31m---------------------------------------------------------------------------\u001b[0m",
            "\u001b[0;31mParserError\u001b[0m                               Traceback (most recent call last)",
            "\u001b[0;32m<ipython-input-6-f1a1f2ce149f>\u001b[0m in \u001b[0;36m<module>\u001b[0;34m()\u001b[0m\n\u001b[0;32m----> 1\u001b[0;31m \u001b[0mtrain\u001b[0m \u001b[0;34m=\u001b[0m \u001b[0mpd\u001b[0m\u001b[0;34m.\u001b[0m\u001b[0mread_csv\u001b[0m\u001b[0;34m(\u001b[0m\u001b[0;34m'train.csv'\u001b[0m\u001b[0;34m)\u001b[0m\u001b[0;34m\u001b[0m\u001b[0;34m\u001b[0m\u001b[0m\n\u001b[0m",
            "\u001b[0;32m/usr/local/lib/python3.7/dist-packages/pandas/io/parsers.py\u001b[0m in \u001b[0;36mread_csv\u001b[0;34m(filepath_or_buffer, sep, delimiter, header, names, index_col, usecols, squeeze, prefix, mangle_dupe_cols, dtype, engine, converters, true_values, false_values, skipinitialspace, skiprows, skipfooter, nrows, na_values, keep_default_na, na_filter, verbose, skip_blank_lines, parse_dates, infer_datetime_format, keep_date_col, date_parser, dayfirst, cache_dates, iterator, chunksize, compression, thousands, decimal, lineterminator, quotechar, quoting, doublequote, escapechar, comment, encoding, dialect, error_bad_lines, warn_bad_lines, delim_whitespace, low_memory, memory_map, float_precision)\u001b[0m\n\u001b[1;32m    686\u001b[0m     )\n\u001b[1;32m    687\u001b[0m \u001b[0;34m\u001b[0m\u001b[0m\n\u001b[0;32m--> 688\u001b[0;31m     \u001b[0;32mreturn\u001b[0m \u001b[0m_read\u001b[0m\u001b[0;34m(\u001b[0m\u001b[0mfilepath_or_buffer\u001b[0m\u001b[0;34m,\u001b[0m \u001b[0mkwds\u001b[0m\u001b[0;34m)\u001b[0m\u001b[0;34m\u001b[0m\u001b[0;34m\u001b[0m\u001b[0m\n\u001b[0m\u001b[1;32m    689\u001b[0m \u001b[0;34m\u001b[0m\u001b[0m\n\u001b[1;32m    690\u001b[0m \u001b[0;34m\u001b[0m\u001b[0m\n",
            "\u001b[0;32m/usr/local/lib/python3.7/dist-packages/pandas/io/parsers.py\u001b[0m in \u001b[0;36m_read\u001b[0;34m(filepath_or_buffer, kwds)\u001b[0m\n\u001b[1;32m    458\u001b[0m \u001b[0;34m\u001b[0m\u001b[0m\n\u001b[1;32m    459\u001b[0m     \u001b[0;32mtry\u001b[0m\u001b[0;34m:\u001b[0m\u001b[0;34m\u001b[0m\u001b[0;34m\u001b[0m\u001b[0m\n\u001b[0;32m--> 460\u001b[0;31m         \u001b[0mdata\u001b[0m \u001b[0;34m=\u001b[0m \u001b[0mparser\u001b[0m\u001b[0;34m.\u001b[0m\u001b[0mread\u001b[0m\u001b[0;34m(\u001b[0m\u001b[0mnrows\u001b[0m\u001b[0;34m)\u001b[0m\u001b[0;34m\u001b[0m\u001b[0;34m\u001b[0m\u001b[0m\n\u001b[0m\u001b[1;32m    461\u001b[0m     \u001b[0;32mfinally\u001b[0m\u001b[0;34m:\u001b[0m\u001b[0;34m\u001b[0m\u001b[0;34m\u001b[0m\u001b[0m\n\u001b[1;32m    462\u001b[0m         \u001b[0mparser\u001b[0m\u001b[0;34m.\u001b[0m\u001b[0mclose\u001b[0m\u001b[0;34m(\u001b[0m\u001b[0;34m)\u001b[0m\u001b[0;34m\u001b[0m\u001b[0;34m\u001b[0m\u001b[0m\n",
            "\u001b[0;32m/usr/local/lib/python3.7/dist-packages/pandas/io/parsers.py\u001b[0m in \u001b[0;36mread\u001b[0;34m(self, nrows)\u001b[0m\n\u001b[1;32m   1196\u001b[0m     \u001b[0;32mdef\u001b[0m \u001b[0mread\u001b[0m\u001b[0;34m(\u001b[0m\u001b[0mself\u001b[0m\u001b[0;34m,\u001b[0m \u001b[0mnrows\u001b[0m\u001b[0;34m=\u001b[0m\u001b[0;32mNone\u001b[0m\u001b[0;34m)\u001b[0m\u001b[0;34m:\u001b[0m\u001b[0;34m\u001b[0m\u001b[0;34m\u001b[0m\u001b[0m\n\u001b[1;32m   1197\u001b[0m         \u001b[0mnrows\u001b[0m \u001b[0;34m=\u001b[0m \u001b[0m_validate_integer\u001b[0m\u001b[0;34m(\u001b[0m\u001b[0;34m\"nrows\"\u001b[0m\u001b[0;34m,\u001b[0m \u001b[0mnrows\u001b[0m\u001b[0;34m)\u001b[0m\u001b[0;34m\u001b[0m\u001b[0;34m\u001b[0m\u001b[0m\n\u001b[0;32m-> 1198\u001b[0;31m         \u001b[0mret\u001b[0m \u001b[0;34m=\u001b[0m \u001b[0mself\u001b[0m\u001b[0;34m.\u001b[0m\u001b[0m_engine\u001b[0m\u001b[0;34m.\u001b[0m\u001b[0mread\u001b[0m\u001b[0;34m(\u001b[0m\u001b[0mnrows\u001b[0m\u001b[0;34m)\u001b[0m\u001b[0;34m\u001b[0m\u001b[0;34m\u001b[0m\u001b[0m\n\u001b[0m\u001b[1;32m   1199\u001b[0m \u001b[0;34m\u001b[0m\u001b[0m\n\u001b[1;32m   1200\u001b[0m         \u001b[0;31m# May alter columns / col_dict\u001b[0m\u001b[0;34m\u001b[0m\u001b[0;34m\u001b[0m\u001b[0;34m\u001b[0m\u001b[0m\n",
            "\u001b[0;32m/usr/local/lib/python3.7/dist-packages/pandas/io/parsers.py\u001b[0m in \u001b[0;36mread\u001b[0;34m(self, nrows)\u001b[0m\n\u001b[1;32m   2155\u001b[0m     \u001b[0;32mdef\u001b[0m \u001b[0mread\u001b[0m\u001b[0;34m(\u001b[0m\u001b[0mself\u001b[0m\u001b[0;34m,\u001b[0m \u001b[0mnrows\u001b[0m\u001b[0;34m=\u001b[0m\u001b[0;32mNone\u001b[0m\u001b[0;34m)\u001b[0m\u001b[0;34m:\u001b[0m\u001b[0;34m\u001b[0m\u001b[0;34m\u001b[0m\u001b[0m\n\u001b[1;32m   2156\u001b[0m         \u001b[0;32mtry\u001b[0m\u001b[0;34m:\u001b[0m\u001b[0;34m\u001b[0m\u001b[0;34m\u001b[0m\u001b[0m\n\u001b[0;32m-> 2157\u001b[0;31m             \u001b[0mdata\u001b[0m \u001b[0;34m=\u001b[0m \u001b[0mself\u001b[0m\u001b[0;34m.\u001b[0m\u001b[0m_reader\u001b[0m\u001b[0;34m.\u001b[0m\u001b[0mread\u001b[0m\u001b[0;34m(\u001b[0m\u001b[0mnrows\u001b[0m\u001b[0;34m)\u001b[0m\u001b[0;34m\u001b[0m\u001b[0;34m\u001b[0m\u001b[0m\n\u001b[0m\u001b[1;32m   2158\u001b[0m         \u001b[0;32mexcept\u001b[0m \u001b[0mStopIteration\u001b[0m\u001b[0;34m:\u001b[0m\u001b[0;34m\u001b[0m\u001b[0;34m\u001b[0m\u001b[0m\n\u001b[1;32m   2159\u001b[0m             \u001b[0;32mif\u001b[0m \u001b[0mself\u001b[0m\u001b[0;34m.\u001b[0m\u001b[0m_first_chunk\u001b[0m\u001b[0;34m:\u001b[0m\u001b[0;34m\u001b[0m\u001b[0;34m\u001b[0m\u001b[0m\n",
            "\u001b[0;32mpandas/_libs/parsers.pyx\u001b[0m in \u001b[0;36mpandas._libs.parsers.TextReader.read\u001b[0;34m()\u001b[0m\n",
            "\u001b[0;32mpandas/_libs/parsers.pyx\u001b[0m in \u001b[0;36mpandas._libs.parsers.TextReader._read_low_memory\u001b[0;34m()\u001b[0m\n",
            "\u001b[0;32mpandas/_libs/parsers.pyx\u001b[0m in \u001b[0;36mpandas._libs.parsers.TextReader._read_rows\u001b[0;34m()\u001b[0m\n",
            "\u001b[0;32mpandas/_libs/parsers.pyx\u001b[0m in \u001b[0;36mpandas._libs.parsers.TextReader._tokenize_rows\u001b[0;34m()\u001b[0m\n",
            "\u001b[0;32mpandas/_libs/parsers.pyx\u001b[0m in \u001b[0;36mpandas._libs.parsers.raise_parser_error\u001b[0;34m()\u001b[0m\n",
            "\u001b[0;31mParserError\u001b[0m: Error tokenizing data. C error: Expected 3 fields in line 33152, saw 4\n"
          ]
        }
      ]
    },
    {
      "cell_type": "code",
      "metadata": {
        "id": "kQ9z7Dm6nvD0"
      },
      "source": [
        "train = train[['qid', 'question_text', 'target']]\n",
        "train_df, val_df = train_test_split(train, test_size=0.1, random_state=3690)\n",
        "embed_size = 300 # Dimensions of each word vector\n",
        "max_features = 50000 # Number of words to be used as vocab\n",
        "maxlen = 100 # max number of words in a question to use\n",
        "\n",
        "## fill up the missing values\n",
        "train_X = train_df[\"question_text\"].fillna(\"_na_\").values\n",
        "val_X = val_df[\"question_text\"].fillna(\"_na_\").values\n",
        "\n",
        "## Tokenize the sentences\n",
        "tokenizer = Tokenizer(num_words=max_features)\n",
        "tokenizer.fit_on_texts(list(train_X))\n",
        "train_X = tokenizer.texts_to_sequences(train_X)\n",
        "val_X = tokenizer.texts_to_sequences(val_X)\n",
        "#Padding of the sentences to make it equal length \n",
        "train_X = pad_sequences(train_X, maxlen=maxlen)\n",
        "val_X = pad_sequences(val_X, maxlen=maxlen)\n",
        "train_y = train_df['target'].values\n",
        "val_y = val_df['target'].values"
      ],
      "execution_count": null,
      "outputs": []
    },
    {
      "cell_type": "code",
      "metadata": {
        "colab": {
          "base_uri": "https://localhost:8080/"
        },
        "id": "Kgsd9VwIrg8n",
        "outputId": "7f5ce7ef-3bed-4144-d647-0c809439318f"
      },
      "source": [
        "EMBEDDING_FILE = 'glove.840B.300d/glove.840B.300d.txt'\n",
        "def get_coefs(word,*arr): return word, np.asarray(arr, dtype='float32')\n",
        "embeddings_index = dict(get_coefs(*o.split(\" \")) for o in open(EMBEDDING_FILE))\n",
        "\n",
        "all_embs = np.stack(embeddings_index.values())\n",
        "emb_mean,emb_std = all_embs.mean(), all_embs.std()\n",
        "embed_size = all_embs.shape[1]\n",
        "\n",
        "word_index = tokenizer.word_index\n",
        "nb_words = min(max_features, len(word_index))\n",
        "embedding_matrix = np.random.normal(emb_mean, emb_std, (nb_words, embed_size))\n",
        "for word, i in word_index.items():\n",
        "    if i >= max_features: continue\n",
        "    embedding_vector = embeddings_index.get(word)\n",
        "    if embedding_vector is not None: embedding_matrix[i] = embedding_vector\n",
        "        "
      ],
      "execution_count": null,
      "outputs": [
        {
          "output_type": "stream",
          "text": [
            "/usr/local/lib/python3.7/dist-packages/IPython/core/interactiveshell.py:2822: FutureWarning: arrays to stack must be passed as a \"sequence\" type such as list or tuple. Support for non-sequence iterables such as generators is deprecated as of NumPy 1.16 and will raise an error in the future.\n",
            "  if self.run_code(code, result):\n"
          ],
          "name": "stderr"
        }
      ]
    },
    {
      "cell_type": "code",
      "metadata": {
        "colab": {
          "base_uri": "https://localhost:8080/"
        },
        "id": "Q53rb6lBnvD1",
        "outputId": "f5dd7d14-0aaf-46f3-fefb-fea3f139e753"
      },
      "source": [
        "inp = Input(shape=(maxlen,))\n",
        "x = Embedding(max_features, embed_size, weights=[embedding_matrix])(inp)\n",
        "x = Bidirectional(CuDNNLSTM(64, return_sequences=True))(x)\n",
        "x = GlobalMaxPool1D()(x)\n",
        "x = Dense(16, activation=\"relu\")(x)\n",
        "x = Dropout(0.1)(x)\n",
        "x = Dense(1, activation=\"sigmoid\")(x)\n",
        "model = Model(inputs=inp, outputs=x)\n",
        "model.compile(loss='binary_crossentropy', optimizer='adam', metrics=['accuracy'])\n",
        "print(model.summary())"
      ],
      "execution_count": null,
      "outputs": [
        {
          "output_type": "stream",
          "text": [
            "Model: \"model\"\n",
            "_________________________________________________________________\n",
            "Layer (type)                 Output Shape              Param #   \n",
            "=================================================================\n",
            "input_2 (InputLayer)         [(None, 100)]             0         \n",
            "_________________________________________________________________\n",
            "embedding_1 (Embedding)      (None, 100, 300)          15000000  \n",
            "_________________________________________________________________\n",
            "bidirectional (Bidirectional (None, 100, 128)          187392    \n",
            "_________________________________________________________________\n",
            "global_max_pooling1d (Global (None, 128)               0         \n",
            "_________________________________________________________________\n",
            "dense (Dense)                (None, 16)                2064      \n",
            "_________________________________________________________________\n",
            "dropout (Dropout)            (None, 16)                0         \n",
            "_________________________________________________________________\n",
            "dense_1 (Dense)              (None, 1)                 17        \n",
            "=================================================================\n",
            "Total params: 15,189,473\n",
            "Trainable params: 15,189,473\n",
            "Non-trainable params: 0\n",
            "_________________________________________________________________\n",
            "None\n"
          ],
          "name": "stdout"
        }
      ]
    },
    {
      "cell_type": "code",
      "metadata": {
        "colab": {
          "base_uri": "https://localhost:8080/"
        },
        "id": "PkruV6LqnvD2",
        "outputId": "cb116766-130d-482c-b934-7000533a255d"
      },
      "source": [
        "model.fit(train_X, train_y, batch_size=512, epochs=10, validation_data=(val_X, val_y))\n"
      ],
      "execution_count": null,
      "outputs": [
        {
          "output_type": "stream",
          "text": [
            "Epoch 1/10\n",
            "2296/2296 [==============================] - 532s 218ms/step - loss: 0.1308 - accuracy: 0.9503 - val_loss: 0.1025 - val_accuracy: 0.9595\n",
            "Epoch 2/10\n",
            "2296/2296 [==============================] - 496s 216ms/step - loss: 0.0933 - accuracy: 0.9630 - val_loss: 0.1016 - val_accuracy: 0.9594\n",
            "Epoch 3/10\n",
            "2296/2296 [==============================] - 493s 215ms/step - loss: 0.0803 - accuracy: 0.9683 - val_loss: 0.1074 - val_accuracy: 0.9598\n",
            "Epoch 4/10\n",
            "2296/2296 [==============================] - 491s 214ms/step - loss: 0.0667 - accuracy: 0.9740 - val_loss: 0.1173 - val_accuracy: 0.9578\n",
            "Epoch 5/10\n",
            "2296/2296 [==============================] - 490s 213ms/step - loss: 0.0525 - accuracy: 0.9796 - val_loss: 0.1309 - val_accuracy: 0.9559\n",
            "Epoch 6/10\n",
            "2296/2296 [==============================] - 489s 213ms/step - loss: 0.0401 - accuracy: 0.9845 - val_loss: 0.1576 - val_accuracy: 0.9541\n",
            "Epoch 7/10\n",
            "2296/2296 [==============================] - 490s 213ms/step - loss: 0.0304 - accuracy: 0.9880 - val_loss: 0.1974 - val_accuracy: 0.9538\n",
            "Epoch 8/10\n",
            "2296/2296 [==============================] - 491s 214ms/step - loss: 0.0236 - accuracy: 0.9906 - val_loss: 0.2299 - val_accuracy: 0.9518\n",
            "Epoch 9/10\n",
            "2296/2296 [==============================] - 488s 213ms/step - loss: 0.0187 - accuracy: 0.9926 - val_loss: 0.2686 - val_accuracy: 0.9535\n",
            "Epoch 10/10\n",
            "2296/2296 [==============================] - 489s 213ms/step - loss: 0.0148 - accuracy: 0.9942 - val_loss: 0.2913 - val_accuracy: 0.9521\n"
          ],
          "name": "stdout"
        },
        {
          "output_type": "execute_result",
          "data": {
            "text/plain": [
              "<tensorflow.python.keras.callbacks.History at 0x7f7f5dc3fc50>"
            ]
          },
          "metadata": {
            "tags": []
          },
          "execution_count": 11
        }
      ]
    },
    {
      "cell_type": "code",
      "metadata": {
        "colab": {
          "base_uri": "https://localhost:8080/"
        },
        "id": "PjNHIjQznvD2",
        "outputId": "3f4f7c6f-c75c-495e-c77b-0b2af6e1b9e9"
      },
      "source": [
        "pred_noemb_val_y = model.predict([val_X], batch_size=1024, verbose=1)\n",
        "for thresh in np.arange(0.1, 0.501, 0.01):\n",
        "    thresh = np.round(thresh, 2)\n",
        "    print(\"F1 score at threshold {0} is {1}\".format(thresh, metrics.f1_score(val_y, (pred_noemb_val_y>thresh).astype(int))))"
      ],
      "execution_count": null,
      "outputs": [
        {
          "output_type": "stream",
          "text": [
            "128/128 [==============================] - 6s 45ms/step\n",
            "F1 score at threshold 0.1 is 0.6163465832961144\n",
            "F1 score at threshold 0.11 is 0.616188282873673\n",
            "F1 score at threshold 0.12 is 0.6168361581920904\n",
            "F1 score at threshold 0.13 is 0.6159790885327878\n",
            "F1 score at threshold 0.14 is 0.6161748758632498\n",
            "F1 score at threshold 0.15 is 0.6157635467980296\n",
            "F1 score at threshold 0.16 is 0.6153669197147459\n",
            "F1 score at threshold 0.17 is 0.6156509695290858\n",
            "F1 score at threshold 0.18 is 0.6152419588525065\n",
            "F1 score at threshold 0.19 is 0.6152414194299012\n",
            "F1 score at threshold 0.2 is 0.614809623919645\n",
            "F1 score at threshold 0.21 is 0.6146278620366575\n",
            "F1 score at threshold 0.22 is 0.6148418205339292\n",
            "F1 score at threshold 0.23 is 0.6145857918338447\n",
            "F1 score at threshold 0.24 is 0.6148928613709009\n",
            "F1 score at threshold 0.25 is 0.6145901347420906\n",
            "F1 score at threshold 0.26 is 0.6140288198166011\n",
            "F1 score at threshold 0.27 is 0.6143291773548887\n",
            "F1 score at threshold 0.28 is 0.6141421392677674\n",
            "F1 score at threshold 0.29 is 0.6141098769138396\n",
            "F1 score at threshold 0.3 is 0.6135789093535572\n",
            "F1 score at threshold 0.31 is 0.6132866710915346\n",
            "F1 score at threshold 0.32 is 0.6132058342915935\n",
            "F1 score at threshold 0.33 is 0.6130323989807062\n",
            "F1 score at threshold 0.34 is 0.6125797629899726\n",
            "F1 score at threshold 0.35 is 0.6125730994152048\n",
            "F1 score at threshold 0.36 is 0.6117762032738823\n",
            "F1 score at threshold 0.37 is 0.6117575015309248\n",
            "F1 score at threshold 0.38 is 0.6110224622560452\n",
            "F1 score at threshold 0.39 is 0.6112682986837249\n",
            "F1 score at threshold 0.4 is 0.6116211719760921\n",
            "F1 score at threshold 0.41 is 0.6112997838839147\n",
            "F1 score at threshold 0.42 is 0.6108154931320381\n",
            "F1 score at threshold 0.43 is 0.6102808953928195\n",
            "F1 score at threshold 0.44 is 0.6093983092988563\n",
            "F1 score at threshold 0.45 is 0.6080668287513248\n",
            "F1 score at threshold 0.46 is 0.6077769442360591\n",
            "F1 score at threshold 0.47 is 0.6068542071298791\n",
            "F1 score at threshold 0.48 is 0.6059920859242509\n",
            "F1 score at threshold 0.49 is 0.6056639395846445\n",
            "F1 score at threshold 0.5 is 0.6054640671335731\n"
          ],
          "name": "stdout"
        }
      ]
    },
    {
      "cell_type": "code",
      "metadata": {
        "colab": {
          "base_uri": "https://localhost:8080/"
        },
        "id": "2df02d2rC-pC",
        "outputId": "7320074a-01ed-4ed0-fe56-db49237fd3fd"
      },
      "source": [
        "\n",
        "import gc   ### gc – Garbage Collector. Purpose: Manages memory used by Python objects. \n",
        "gc.collect() "
      ],
      "execution_count": null,
      "outputs": [
        {
          "output_type": "execute_result",
          "data": {
            "text/plain": [
              "3172"
            ]
          },
          "metadata": {
            "tags": []
          },
          "execution_count": 13
        }
      ]
    },
    {
      "cell_type": "code",
      "metadata": {
        "colab": {
          "base_uri": "https://localhost:8080/"
        },
        "id": "-3DTEPdvkkXP",
        "outputId": "b7eac3ba-24d7-4314-ba59-eb89a35af7c4"
      },
      "source": [
        "\n",
        "embed_size = 300\n",
        "embedding_path = \"glove.840B.300d/glove.840B.300d.txt\"\n",
        "def get_coefs(word,*arr): return word, np.asarray(arr, dtype='float32')\n",
        "\n",
        "embedding_index = dict(get_coefs(*o.split(\" \")) for o in open(embedding_path, encoding='utf-8', errors='ignore'))\n",
        "\n",
        "all_embs = np.stack(embedding_index.values())\n",
        "emb_mean,emb_std = all_embs.mean(), all_embs.std()\n",
        "\n",
        "word_index = tokenizer.word_index\n",
        "nb_words = min(max_features, len(word_index))\n",
        "\n",
        "embedding_matrix = np.random.normal(emb_mean, emb_std, (nb_words + 1, embed_size))\n",
        "for word, i in word_index.items():\n",
        "    if i >= max_features: continue\n",
        "    embedding_vector = embedding_index.get(word)\n",
        "    if embedding_vector is not None: embedding_matrix[i] = embedding_vector\n",
        "\n",
        "embedding_path = \"paragram_300_sl999/paragram_300_sl999.txt\"\n",
        "embedding_index = dict(get_coefs(*o.split(\" \")) for o in open(embedding_path, encoding='utf-8', errors='ignore') if len(o)>100)\n",
        "\n",
        "all_embs = np.stack(embedding_index.values())\n",
        "emb_mean,emb_std = all_embs.mean(), all_embs.std()\n",
        "\n",
        "word_index = tokenizer.word_index\n",
        "nb_words = min(max_features, len(word_index))\n",
        "\n",
        "embedding_matrix1 = np.random.normal(emb_mean, emb_std, (nb_words + 1, embed_size))\n",
        "for word, i in word_index.items():\n",
        "    if i >= max_features: continue\n",
        "    embedding_vector = embedding_index.get(word)\n",
        "    if embedding_vector is not None: embedding_matrix1[i] = embedding_vector  \n",
        "\n",
        "EMBEDDING_FILE = 'wiki-news-300d-1M/wiki-news-300d-1M.vec'\n",
        "def get_coefs(word,*arr): return word, np.asarray(arr, dtype='float32')\n",
        "\n",
        "embeddings_index = dict(get_coefs(*o.split(\" \")) for o in open(EMBEDDING_FILE) if len(o)>100)\n",
        "\n",
        "all_embs = np.stack(embeddings_index.values())\n",
        "emb_mean,emb_std = all_embs.mean(), all_embs.std()\n",
        "#embed_size = all_embs.shape[1]\n",
        "\n",
        "\n",
        "nb_words = min(max_features, len(word_index))\n",
        "\n",
        "embedding_matrix2 = np.random.normal(emb_mean, emb_std, (nb_words + 1, embed_size))\n",
        "for word, i in word_index.items():\n",
        "    if i >= max_features: continue\n",
        "    embedding_vector = embeddings_index.get(word)\n",
        "    if embedding_vector is not None: embedding_matrix2[i] = embedding_vector\n",
        "\n",
        "embedding_matrix_final = np.mean([embedding_matrix, embedding_matrix1, embedding_matrix2], axis=0)\n",
        "del embedding_matrix1, embedding_matrix2\n",
        "import gc   ### gc – Garbage Collector. Purpose: Manages memory used by Python objects. \n",
        "gc.collect()  ### The garbage collection can be invoked manually\n",
        "\n",
        "\n",
        "def sigmoid(x):\n",
        "    return 1 / (1 + np.exp(-x))"
      ],
      "execution_count": null,
      "outputs": [
        {
          "output_type": "stream",
          "text": [
            "/usr/local/lib/python3.7/dist-packages/IPython/core/interactiveshell.py:2822: FutureWarning: arrays to stack must be passed as a \"sequence\" type such as list or tuple. Support for non-sequence iterables such as generators is deprecated as of NumPy 1.16 and will raise an error in the future.\n",
            "  if self.run_code(code, result):\n"
          ],
          "name": "stderr"
        }
      ]
    },
    {
      "cell_type": "code",
      "metadata": {
        "colab": {
          "base_uri": "https://localhost:8080/"
        },
        "id": "99NlDtZoDvst",
        "outputId": "cd5a297c-ffbd-4e17-a3f1-e6b5f70ae7d4"
      },
      "source": [
        "inp = Input(shape=(maxlen,))\n",
        "x = Embedding(max_features, embed_size, weights=[embedding_matrix])(inp)\n",
        "x = Bidirectional(CuDNNGRU(64, return_sequences=True))(x)\n",
        "x = GlobalMaxPool1D()(x)\n",
        "x = Dense(16, activation=\"relu\")(x)\n",
        "x = Dropout(0.1)(x)\n",
        "x = Dense(1, activation=\"sigmoid\")(x)\n",
        "model = Model(inputs=inp, outputs=x)\n",
        "model.compile(loss='binary_crossentropy', optimizer='adam', metrics=['accuracy'])\n",
        "print(model.summary())\n",
        "\n",
        "filepath=\"model.hdf5\"\n",
        "checkpoint = ModelCheckpoint(filepath, monitor='loss', verbose=1, save_best_only=True, mode='min')\n",
        "callbacks_list = [checkpoint]"
      ],
      "execution_count": null,
      "outputs": [
        {
          "output_type": "stream",
          "text": [
            "Model: \"model\"\n",
            "_________________________________________________________________\n",
            "Layer (type)                 Output Shape              Param #   \n",
            "=================================================================\n",
            "input_4 (InputLayer)         [(None, 100)]             0         \n",
            "_________________________________________________________________\n",
            "embedding_2 (Embedding)      (None, 100, 300)          15000000  \n",
            "_________________________________________________________________\n",
            "bidirectional (Bidirectional (None, 100, 128)          140544    \n",
            "_________________________________________________________________\n",
            "global_max_pooling1d (Global (None, 128)               0         \n",
            "_________________________________________________________________\n",
            "dense (Dense)                (None, 16)                2064      \n",
            "_________________________________________________________________\n",
            "dropout (Dropout)            (None, 16)                0         \n",
            "_________________________________________________________________\n",
            "dense_1 (Dense)              (None, 1)                 17        \n",
            "=================================================================\n",
            "Total params: 15,142,625\n",
            "Trainable params: 15,142,625\n",
            "Non-trainable params: 0\n",
            "_________________________________________________________________\n",
            "None\n"
          ],
          "name": "stdout"
        }
      ]
    },
    {
      "cell_type": "code",
      "metadata": {
        "colab": {
          "base_uri": "https://localhost:8080/"
        },
        "id": "N1Lce2ttDyld",
        "outputId": "dc2e79fc-e553-4b56-fee1-37186bcde3bc"
      },
      "source": [
        "model.fit(train_X, train_y, batch_size=512, epochs=3, validation_data=(val_X, val_y), callbacks=callbacks_list)\n"
      ],
      "execution_count": null,
      "outputs": [
        {
          "output_type": "stream",
          "text": [
            "Epoch 1/3\n",
            "2296/2296 [==============================] - 522s 214ms/step - loss: 0.1265 - accuracy: 0.9524 - val_loss: 0.1020 - val_accuracy: 0.9592\n",
            "\n",
            "Epoch 00001: loss improved from inf to 0.11134, saving model to model.hdf5\n",
            "Epoch 2/3\n",
            "2296/2296 [==============================] - 491s 214ms/step - loss: 0.0923 - accuracy: 0.9630 - val_loss: 0.1014 - val_accuracy: 0.9594\n",
            "\n",
            "Epoch 00002: loss improved from 0.11134 to 0.09230, saving model to model.hdf5\n",
            "Epoch 3/3\n",
            "2296/2296 [==============================] - 489s 213ms/step - loss: 0.0770 - accuracy: 0.9696 - val_loss: 0.1077 - val_accuracy: 0.9587\n",
            "\n",
            "Epoch 00003: loss improved from 0.09230 to 0.07866, saving model to model.hdf5\n"
          ],
          "name": "stdout"
        },
        {
          "output_type": "execute_result",
          "data": {
            "text/plain": [
              "<tensorflow.python.keras.callbacks.History at 0x7f7571e35790>"
            ]
          },
          "metadata": {
            "tags": []
          },
          "execution_count": 10
        }
      ]
    },
    {
      "cell_type": "code",
      "metadata": {
        "colab": {
          "base_uri": "https://localhost:8080/"
        },
        "id": "L4HBVlTLlJAl",
        "outputId": "b0f4adb8-36b6-4e6b-bb81-237838e1bdd8"
      },
      "source": [
        "from google.colab import drive\n",
        "drive.mount('/content/drive')"
      ],
      "execution_count": null,
      "outputs": [
        {
          "output_type": "stream",
          "text": [
            "Mounted at /content/drive\n"
          ],
          "name": "stdout"
        }
      ]
    },
    {
      "cell_type": "code",
      "metadata": {
        "colab": {
          "base_uri": "https://localhost:8080/"
        },
        "id": "NcnHBG5pDzFS",
        "outputId": "f0da5f23-82bd-471d-efb1-bc1fde99d816"
      },
      "source": [
        "pred_noemb_val_y = model.predict([val_X], batch_size=1024, verbose=1)\n",
        "for thresh in np.arange(0.1, 0.501, 0.01):\n",
        "    thresh = np.round(thresh, 2)\n",
        "    print(\"F1 score at threshold {0} is {1}\".format(thresh, metrics.f1_score(val_y, (pred_noemb_val_y>thresh).astype(int))))"
      ],
      "execution_count": null,
      "outputs": [
        {
          "output_type": "stream",
          "text": [
            "128/128 [==============================] - 6s 45ms/step\n",
            "F1 score at threshold 0.1 is 0.6109401108081963\n",
            "F1 score at threshold 0.11 is 0.6171060287338317\n",
            "F1 score at threshold 0.12 is 0.6226646665757534\n",
            "F1 score at threshold 0.13 is 0.626991089154624\n",
            "F1 score at threshold 0.14 is 0.6317316240116034\n",
            "F1 score at threshold 0.15 is 0.6350814085573646\n",
            "F1 score at threshold 0.16 is 0.6384305448963928\n",
            "F1 score at threshold 0.17 is 0.6400969696969696\n",
            "F1 score at threshold 0.18 is 0.6429692096489508\n",
            "F1 score at threshold 0.19 is 0.6449347051840126\n",
            "F1 score at threshold 0.2 is 0.648051948051948\n",
            "F1 score at threshold 0.21 is 0.6502925156344563\n",
            "F1 score at threshold 0.22 is 0.6525812035434273\n",
            "F1 score at threshold 0.23 is 0.6542766197761577\n",
            "F1 score at threshold 0.24 is 0.6558700263879547\n",
            "F1 score at threshold 0.25 is 0.6571682062522833\n",
            "F1 score at threshold 0.26 is 0.658289079341711\n",
            "F1 score at threshold 0.27 is 0.6596420629037383\n",
            "F1 score at threshold 0.28 is 0.6609336609336609\n",
            "F1 score at threshold 0.29 is 0.6612104242946371\n",
            "F1 score at threshold 0.3 is 0.6619978284473399\n",
            "F1 score at threshold 0.31 is 0.66316538103835\n",
            "F1 score at threshold 0.32 is 0.6635071090047393\n",
            "F1 score at threshold 0.33 is 0.6641488475423493\n",
            "F1 score at threshold 0.34 is 0.6640210161533732\n",
            "F1 score at threshold 0.35 is 0.6638489715412792\n",
            "F1 score at threshold 0.36 is 0.6638264030902067\n",
            "F1 score at threshold 0.37 is 0.6640334306485774\n",
            "F1 score at threshold 0.38 is 0.6630535055350554\n",
            "F1 score at threshold 0.39 is 0.6641106076449401\n",
            "F1 score at threshold 0.4 is 0.6630008774495467\n",
            "F1 score at threshold 0.41 is 0.6627797408716135\n",
            "F1 score at threshold 0.42 is 0.662715581105909\n",
            "F1 score at threshold 0.43 is 0.6616137502984005\n",
            "F1 score at threshold 0.44 is 0.6611401453715384\n",
            "F1 score at threshold 0.45 is 0.6601718504175239\n",
            "F1 score at threshold 0.46 is 0.6601291265684005\n",
            "F1 score at threshold 0.47 is 0.6587355123566567\n",
            "F1 score at threshold 0.48 is 0.6579012345679013\n",
            "F1 score at threshold 0.49 is 0.6573026724673711\n",
            "F1 score at threshold 0.5 is 0.6562441373272465\n"
          ],
          "name": "stdout"
        }
      ]
    },
    {
      "cell_type": "code",
      "metadata": {
        "id": "epcI0vWUZMeO"
      },
      "source": [
        "def sigmoid(x):\n",
        "    return 1 / (1 + np.exp(-x))\n",
        "\n",
        "# get html element\n",
        "def cstr(s, color='black'):\n",
        "\tif s == ' ':\n",
        "\t\treturn \"<text style=color:#000;padding-left:10px;background-color:{}> </text>\".format(color, s)\n",
        "\telse:\n",
        "\t\treturn \"<text style=color:#000;background-color:{}>{} </text>\".format(color, s)\n",
        "\t\n",
        "# print html\n",
        "def print_color(t):\n",
        "\tdisplay(html_print(''.join([cstr(ti, color=ci) for ti,ci in t])))\n",
        "\n",
        "# get appropriate color for value\n",
        "def get_clr(value):\n",
        "\tcolors = ['#85c2e1', '#89c4e2', '#95cae5', '#99cce6', '#a1d0e8'\n",
        "\t\t'#b2d9ec', '#baddee', '#c2e1f0', '#eff7fb', '#f9e8e8',\n",
        "\t\t'#f9e8e8', '#f9d4d4', '#f9bdbd', '#f8a8a8', '#f68f8f',\n",
        "\t\t'#f47676', '#f45f5f', '#f34343', '#f33b3b', '#f42e2e']\n",
        "\tvalue = int((value * 100) / 5)\n",
        "\treturn colors[value]\n",
        "\n",
        "def visualize(output_values, result_list, cell_no):\n",
        "  print(\"\\nCell Number:\", cell_no, \"\\n\")\n",
        "  text_colours = []\n",
        "  for i in range(len(output_values)):\n",
        "    text = (result_list[i], get_clr(output_values[i][cell_no]))\n",
        "    text_colours.append(text)\n",
        "  print_color(text_colours)\n",
        "\n",
        "# Get Predictions from random sequence\n",
        "def get_predictions(data):\n",
        "  start = np.random.randint(0, len(data)-1)\n",
        "  pattern = data[start]\n",
        "  result_list, output_values = [], []\n",
        "  print(\"Seed:\")\n",
        "  print(\"\\\"\" + ''.join([int_to_char[value] for value in pattern]) + \"\\\"\")\n",
        "  print(\"\\nGenerated:\")\n",
        "\n",
        "  for i in range(1000):\n",
        "    # Reshaping input array for predicting next character\n",
        "    x = np.reshape(pattern, (1, len(pattern), 1))\n",
        "    x = x / float(n_vocab)\n",
        "\n",
        "    # Prediction\n",
        "    prediction = model.predict(x, verbose=0)\n",
        "\n",
        "    # LSTM Activations\n",
        "    output = attn_func([x])[0][0]\n",
        "    output = sigmoid(output)\n",
        "    output_values.append(output)\n",
        "\n",
        "    # Predicted Character\n",
        "    index = np.argmax(prediction)\n",
        "    result = int_to_char[index]\n",
        "\n",
        "    # Preparing input for next character\n",
        "    seq_in = [int_to_char[value] for value in pattern]\n",
        "    pattern.append(index)\n",
        "    pattern = pattern[1:len(pattern)]\n",
        "\n",
        "    # Saving generated characters\n",
        "    result_list.append(result)\n",
        "  return output_values, result_list\n",
        "\n",
        "\n"
      ],
      "execution_count": null,
      "outputs": []
    },
    {
      "cell_type": "code",
      "metadata": {
        "colab": {
          "base_uri": "https://localhost:8080/"
        },
        "id": "iVGhrTdVqT2n",
        "outputId": "8e486c5f-cdfe-430a-ca00-2df05674a495"
      },
      "source": [
        "print(val_X)"
      ],
      "execution_count": null,
      "outputs": [
        {
          "output_type": "stream",
          "text": [
            "[[    0     0     0 ...     6   231   278]\n",
            " [    0     0     0 ...  1702    22   104]\n",
            " [    0     0     0 ...     1   141   154]\n",
            " ...\n",
            " [    0     0     0 ...  1543     5   181]\n",
            " [    0     0     0 ...  1713   456   123]\n",
            " [    0     0     0 ... 24003     4 27090]]\n"
          ],
          "name": "stdout"
        }
      ]
    },
    {
      "cell_type": "code",
      "metadata": {
        "colab": {
          "base_uri": "https://localhost:8080/"
        },
        "id": "GJDo8uIVlaWF",
        "outputId": "e361935f-a613-4525-9a98-fd9597e5081e"
      },
      "source": [
        "import keras.backend as K\n",
        "from keras.models import load_model\n",
        "\n",
        "model = load_model(\"model.hdf5\")\n",
        "partial_model = Model(model.inputs, model.layers[3].output)\n",
        "print(partial_model.summary())"
      ],
      "execution_count": null,
      "outputs": [
        {
          "output_type": "stream",
          "text": [
            "Model: \"model_1\"\n",
            "_________________________________________________________________\n",
            "Layer (type)                 Output Shape              Param #   \n",
            "=================================================================\n",
            "input_4 (InputLayer)         [(None, 100)]             0         \n",
            "_________________________________________________________________\n",
            "embedding_2 (Embedding)      (None, 100, 300)          15000000  \n",
            "_________________________________________________________________\n",
            "bidirectional (Bidirectional (None, 100, 128)          140544    \n",
            "_________________________________________________________________\n",
            "global_max_pooling1d (Global (None, 128)               0         \n",
            "=================================================================\n",
            "Total params: 15,140,544\n",
            "Trainable params: 15,140,544\n",
            "Non-trainable params: 0\n",
            "_________________________________________________________________\n",
            "None\n"
          ],
          "name": "stdout"
        }
      ]
    },
    {
      "cell_type": "code",
      "metadata": {
        "colab": {
          "base_uri": "https://localhost:8080/"
        },
        "id": "6hMSYQAr1TGO",
        "outputId": "0fda846d-c0cf-41d5-9acc-0a50946c0e3b"
      },
      "source": [
        "## fill up the missing values\n",
        "train_X = train_df[\"question_text\"].fillna(\"_na_\").values\n",
        "val_X = val_df[\"question_text\"].fillna(\"_na_\").values\n",
        "\n",
        "## Tokenize the sentences\n",
        "tokenizer = Tokenizer(num_words=max_features)\n",
        "tokenizer.fit_on_texts(list(train_X))\n",
        "train_X = tokenizer.texts_to_sequences(train_X)\n",
        "val_X = tokenizer.texts_to_sequences(val_X)\n",
        "#Padding of the sentences to make it equal length \n",
        "train_X = pad_sequences(train_X, maxlen=maxlen)\n",
        "val_X = pad_sequences(val_X, maxlen=maxlen)\n",
        "print(val_X)"
      ],
      "execution_count": null,
      "outputs": [
        {
          "output_type": "stream",
          "text": [
            "[[    0     0     0 ...     6   231   278]\n",
            " [    0     0     0 ...  1702    22   104]\n",
            " [    0     0     0 ...     1   141   154]\n",
            " ...\n",
            " [    0     0     0 ...  1543     5   181]\n",
            " [    0     0     0 ...  1713   456   123]\n",
            " [    0     0     0 ... 24003     4 27090]]\n"
          ],
          "name": "stdout"
        }
      ]
    },
    {
      "cell_type": "code",
      "metadata": {
        "colab": {
          "base_uri": "https://localhost:8080/"
        },
        "id": "G92yH6cP1wWH",
        "outputId": "76d32b7a-fd1b-4107-d72b-20e45daf0900"
      },
      "source": [
        "test = val_df[\"question_text\"].fillna(\"_na_\").values[85:86]\n",
        "print(test)\n",
        "print(val_X[85:86])"
      ],
      "execution_count": null,
      "outputs": [
        {
          "output_type": "stream",
          "text": [
            "['Why did Bill Gates name his company after his dick?']\n",
            "[[   0    0    0    0    0    0    0    0    0    0    0    0    0    0\n",
            "     0    0    0    0    0    0    0    0    0    0    0    0    0    0\n",
            "     0    0    0    0    0    0    0    0    0    0    0    0    0    0\n",
            "     0    0    0    0    0    0    0    0    0    0    0    0    0    0\n",
            "     0    0    0    0    0    0    0    0    0    0    0    0    0    0\n",
            "     0    0    0    0    0    0    0    0    0    0    0    0    0    0\n",
            "     0    0    0    0    0    0   16   48 1145 4311  191   90  167   59\n",
            "    90 3161]]\n"
          ],
          "name": "stdout"
        }
      ]
    },
    {
      "cell_type": "code",
      "metadata": {
        "id": "zGtqkjvRqj1m"
      },
      "source": [
        "output_test = partial_model([val_X[85:86]], training=False)\n"
      ],
      "execution_count": null,
      "outputs": []
    },
    {
      "cell_type": "code",
      "metadata": {
        "id": "xE9QxzSp7Tdo"
      },
      "source": [
        "class Vocabulary(object):\n",
        "    # credits : Shankar G see https://www.kaggle.com/kaosmonkey/visualize-sincere-vs-insincere-words\n",
        "    \n",
        "    def __init__(self):\n",
        "        self.vocab = {}\n",
        "        self.STOPWORDS = set()\n",
        "        self.STOPWORDS = set(stopwords.words('english'))\n",
        "        \n",
        "    def build_vocab(self, lines):\n",
        "        for line in lines:\n",
        "            for word in line.split(' '):\n",
        "                word = word.lower()\n",
        "                if (word in self.STOPWORDS):\n",
        "                    continue\n",
        "                if (word not in self.vocab):\n",
        "                    self.vocab[word] = 0\n",
        "                self.vocab[word] +=1 \n",
        "    \n",
        "    def generate_ngrams(text, n_gram=1):\n",
        "        \"\"\"arg: text, n_gram\"\"\"\n",
        "        token = [token for token in text.lower().split(\" \") if token != \"\" if token not in STOPWORDS]\n",
        "        ngrams = zip(*[token[i:] for i in range(n_gram)])\n",
        "        return [\" \".join(ngram) for ngram in ngrams]\n",
        "    \n",
        "    def horizontal_bar_chart(df, color):\n",
        "        trace = go.Bar(\n",
        "            y=df[\"word\"].values[::-1],\n",
        "            x=df[\"wordcount\"].values[::-1],\n",
        "            showlegend=False,\n",
        "            orientation = 'h',\n",
        "            marker=dict(\n",
        "            color=color,\n",
        "            ),\n",
        "        )\n",
        "        return trace"
      ],
      "execution_count": null,
      "outputs": []
    },
    {
      "cell_type": "code",
      "metadata": {
        "colab": {
          "base_uri": "https://localhost:8080/",
          "height": 312
        },
        "id": "WiOyHzbG7URK",
        "outputId": "86e49365-95c7-4467-df5e-40f6e33af5a0"
      },
      "source": [
        "import seaborn as sns\n",
        "import matplotlib.pyplot as plt\n",
        "import nltk\n",
        "\n",
        "nltk.download('stopwords')\n",
        "train = pd.read_csv('train.csv')\n",
        "train = train[['qid', 'question_text', 'target']]\n",
        "train_df, val_df = train_test_split(train, test_size=0.1, random_state=3690)\n",
        "\n",
        "sincere_vocab = Vocabulary()\n",
        "sincere_vocab.build_vocab(train_df[train_df['target'] == 0]['question_text'])\n",
        "sincere_vocabulary = sorted(sincere_vocab.vocab.items(), reverse=True, key=lambda kv: kv[1])\n",
        "    \n",
        "df_sincere_vocab = pd.DataFrame(sincere_vocabulary, columns=['word_sincere', 'frequency'])\n",
        "sns.barplot(y='word_sincere', x='frequency', data=df_sincere_vocab[:20])"
      ],
      "execution_count": null,
      "outputs": [
        {
          "output_type": "execute_result",
          "data": {
            "text/plain": [
              "<matplotlib.axes._subplots.AxesSubplot at 0x7f10ec76b6d0>"
            ]
          },
          "metadata": {
            "tags": []
          },
          "execution_count": 10
        },
        {
          "output_type": "display_data",
          "data": {
            "image/png": "[encoded data removed]",
            "text/plain": [
              "<Figure size 360x288 with 1 Axes>"
            ]
          },
          "metadata": {
            "tags": [],
            "needs_background": "light"
          }
        }
      ]
    },
    {
      "cell_type": "code",
      "metadata": {
        "colab": {
          "base_uri": "https://localhost:8080/",
          "height": 296
        },
        "id": "DGfbmgHo8ON1",
        "outputId": "b26f95e9-0189-484a-ee79-51cd03ac98c1"
      },
      "source": [
        "insincere_vocab = Vocabulary()\n",
        "insincere_vocab.build_vocab(train[train['target'] == 1]['question_text'])\n",
        "insincere_vocabulary = sorted(insincere_vocab.vocab.items(), reverse=True, key=lambda kv: kv[1])\n",
        "\n",
        "df_insincere_vocab = pd.DataFrame(insincere_vocabulary, columns=['word_insincere', 'frequency'])\n",
        "sns.barplot(y='word_insincere', x='frequency', data=df_insincere_vocab[:20])"
      ],
      "execution_count": null,
      "outputs": [
        {
          "output_type": "execute_result",
          "data": {
            "text/plain": [
              "<matplotlib.axes._subplots.AxesSubplot at 0x7f10e9204d50>"
            ]
          },
          "metadata": {
            "tags": []
          },
          "execution_count": 12
        },
        {
          "output_type": "display_data",
          "data": {
            "image/png": "[encoded data removed]",
            "text/plain": [
              "<Figure size 432x288 with 1 Axes>"
            ]
          },
          "metadata": {
            "tags": [],
            "needs_background": "light"
          }
        }
      ]
    },
    {
      "cell_type": "code",
      "metadata": {
        "id": "ZHFwkns8_YTx",
        "colab": {
          "base_uri": "https://localhost:8080/",
          "height": 198
        },
        "outputId": "0bb6c6c8-adc8-405f-b94b-01c7b8abb000"
      },
      "source": [
        "plt.figure(figsize=(5, 4))\n",
        "sns.countplot(x='target', data=train)\n",
        "plt.title('Class distribution (sincere = 0, insincere = 1)');"
      ],
      "execution_count": null,
      "outputs": [
        {
          "output_type": "error",
          "ename": "NameError",
          "evalue": "ignored",
          "traceback": [
            "\u001b[0;31m---------------------------------------------------------------------------\u001b[0m",
            "\u001b[0;31mNameError\u001b[0m                                 Traceback (most recent call last)",
            "\u001b[0;32m<ipython-input-1-743d9ca30487>\u001b[0m in \u001b[0;36m<module>\u001b[0;34m()\u001b[0m\n\u001b[0;32m----> 1\u001b[0;31m \u001b[0mplt\u001b[0m\u001b[0;34m.\u001b[0m\u001b[0mfigure\u001b[0m\u001b[0;34m(\u001b[0m\u001b[0mfigsize\u001b[0m\u001b[0;34m=\u001b[0m\u001b[0;34m(\u001b[0m\u001b[0;36m5\u001b[0m\u001b[0;34m,\u001b[0m \u001b[0;36m4\u001b[0m\u001b[0;34m)\u001b[0m\u001b[0;34m)\u001b[0m\u001b[0;34m\u001b[0m\u001b[0;34m\u001b[0m\u001b[0m\n\u001b[0m\u001b[1;32m      2\u001b[0m \u001b[0msns\u001b[0m\u001b[0;34m.\u001b[0m\u001b[0mcountplot\u001b[0m\u001b[0;34m(\u001b[0m\u001b[0mx\u001b[0m\u001b[0;34m=\u001b[0m\u001b[0;34m'target'\u001b[0m\u001b[0;34m,\u001b[0m \u001b[0mdata\u001b[0m\u001b[0;34m=\u001b[0m\u001b[0mtrain\u001b[0m\u001b[0;34m)\u001b[0m\u001b[0;34m\u001b[0m\u001b[0;34m\u001b[0m\u001b[0m\n\u001b[1;32m      3\u001b[0m \u001b[0mplt\u001b[0m\u001b[0;34m.\u001b[0m\u001b[0mtitle\u001b[0m\u001b[0;34m(\u001b[0m\u001b[0;34m'Class distribution (sincere = 0, insincere = 1)'\u001b[0m\u001b[0;34m)\u001b[0m\u001b[0;34m;\u001b[0m\u001b[0;34m\u001b[0m\u001b[0;34m\u001b[0m\u001b[0m\n",
            "\u001b[0;31mNameError\u001b[0m: name 'plt' is not defined"
          ]
        }
      ]
    },
    {
      "cell_type": "code",
      "metadata": {
        "colab": {
          "base_uri": "https://localhost:8080/",
          "height": 238
        },
        "id": "Bs_4h0lM8QP6",
        "outputId": "2f0a8840-d73c-4d6c-867b-2a038f5611f2"
      },
      "source": [
        "test_df_0 = train_df[train_df['target'] == 0]['question_text'].fillna(\"_na_\").values\n",
        "test_df_1 = train_df[train_df['target'] == 1]['question_text'].fillna(\"_na_\").values\n",
        "\n",
        "## Tokenize the sentences\n",
        "max_features = 50000\n",
        "tokenizer = Tokenizer(num_words=max_features)\n",
        "tokenizer.fit_on_texts(list(test_df_0))\n",
        "train_X = tokenizer.texts_to_sequences(test_df_0)\n",
        "#Padding of the sentences to make it equal length \n",
        "train_X = pad_sequences(train_X, maxlen=maxlen)\n",
        "train_y = train_df['target'].values\n"
      ],
      "execution_count": null,
      "outputs": [
        {
          "output_type": "error",
          "ename": "NameError",
          "evalue": "ignored",
          "traceback": [
            "\u001b[0;31m---------------------------------------------------------------------------\u001b[0m",
            "\u001b[0;31mNameError\u001b[0m                                 Traceback (most recent call last)",
            "\u001b[0;32m<ipython-input-14-8b9702b8aebe>\u001b[0m in \u001b[0;36m<module>\u001b[0;34m()\u001b[0m\n\u001b[1;32m      5\u001b[0m \u001b[0mmax_features\u001b[0m \u001b[0;34m=\u001b[0m \u001b[0;36m50000\u001b[0m\u001b[0;34m\u001b[0m\u001b[0;34m\u001b[0m\u001b[0m\n\u001b[1;32m      6\u001b[0m \u001b[0mtokenizer\u001b[0m \u001b[0;34m=\u001b[0m \u001b[0mTokenizer\u001b[0m\u001b[0;34m(\u001b[0m\u001b[0mnum_words\u001b[0m\u001b[0;34m=\u001b[0m\u001b[0mmax_features\u001b[0m\u001b[0;34m)\u001b[0m\u001b[0;34m\u001b[0m\u001b[0;34m\u001b[0m\u001b[0m\n\u001b[0;32m----> 7\u001b[0;31m \u001b[0mtokenizer\u001b[0m\u001b[0;34m.\u001b[0m\u001b[0mfit_on_texts\u001b[0m\u001b[0;34m(\u001b[0m\u001b[0mlist\u001b[0m\u001b[0;34m(\u001b[0m\u001b[0mtrain_X\u001b[0m\u001b[0;34m)\u001b[0m\u001b[0;34m)\u001b[0m\u001b[0;34m\u001b[0m\u001b[0;34m\u001b[0m\u001b[0m\n\u001b[0m\u001b[1;32m      8\u001b[0m \u001b[0mtrain_X\u001b[0m \u001b[0;34m=\u001b[0m \u001b[0mtokenizer\u001b[0m\u001b[0;34m.\u001b[0m\u001b[0mtexts_to_sequences\u001b[0m\u001b[0;34m(\u001b[0m\u001b[0mtrain_X\u001b[0m\u001b[0;34m)\u001b[0m\u001b[0;34m\u001b[0m\u001b[0;34m\u001b[0m\u001b[0m\n\u001b[1;32m      9\u001b[0m \u001b[0mval_X\u001b[0m \u001b[0;34m=\u001b[0m \u001b[0mtokenizer\u001b[0m\u001b[0;34m.\u001b[0m\u001b[0mtexts_to_sequences\u001b[0m\u001b[0;34m(\u001b[0m\u001b[0mval_X\u001b[0m\u001b[0;34m)\u001b[0m\u001b[0;34m\u001b[0m\u001b[0;34m\u001b[0m\u001b[0m\n",
            "\u001b[0;31mNameError\u001b[0m: name 'train_X' is not defined"
          ]
        }
      ]
    }
  ]
}